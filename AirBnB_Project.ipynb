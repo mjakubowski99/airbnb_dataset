{
  "cells": [
    {
      "cell_type": "markdown",
      "metadata": {
        "id": "view-in-github",
        "colab_type": "text"
      },
      "source": [
        "<a href=\"https://colab.research.google.com/github/mjakubowski99/airbnb_dataset/blob/main/AirBnB_Project.ipynb\" target=\"_parent\"><img src=\"https://colab.research.google.com/assets/colab-badge.svg\" alt=\"Open In Colab\"/></a>"
      ]
    },
    {
      "cell_type": "code",
      "execution_count": 282,
      "metadata": {
        "colab": {
          "base_uri": "https://localhost:8080/",
          "height": 618
        },
        "id": "E2RGDGe2XHTa",
        "outputId": "a9cdd82b-5000-4fe3-aabb-649d13edf85b"
      },
      "outputs": [
        {
          "output_type": "execute_result",
          "data": {
            "text/plain": [
              "                   id                                      listing_url  \\\n",
              "0            18208903            https://www.airbnb.com/rooms/18208903   \n",
              "1             8780479             https://www.airbnb.com/rooms/8780479   \n",
              "2            34771515            https://www.airbnb.com/rooms/34771515   \n",
              "3  604703529081024264  https://www.airbnb.com/rooms/604703529081024264   \n",
              "4            23138039            https://www.airbnb.com/rooms/23138039   \n",
              "\n",
              "        scrape_id last_scraped       source  \\\n",
              "0  20220914194812   2022-09-14  city scrape   \n",
              "1  20220914194812   2022-09-14  city scrape   \n",
              "2  20220914194812   2022-09-14  city scrape   \n",
              "3  20220914194812   2022-09-14  city scrape   \n",
              "4  20220914194812   2022-09-14  city scrape   \n",
              "\n",
              "                                                name  \\\n",
              "0                    Casa Caterina Parco Nord Milano   \n",
              "1                       bilocale zona expo/fiera rho   \n",
              "2  Bnbook-OlonaTriloB-Fiera Milano-Pero with high...   \n",
              "3    Appartamento incantevole in piccola corte a Rho   \n",
              "4                                       Sesto centro   \n",
              "\n",
              "                                         description  \\\n",
              "0  Beautiful apartment located in the green of Pa...   \n",
              "1  Appartamento bilocale moderno e funzionale con...   \n",
              "2  Comfortable 3-rooms apartment for 6 people in ...   \n",
              "3  Appartamento incantevole a Rho , completo di t...   \n",
              "4  Delizioso appartamento ubicato al sesto ed ult...   \n",
              "\n",
              "                               neighborhood_overview  \\\n",
              "0  Public Transport to the Milano City Center at ...   \n",
              "1                                                NaN   \n",
              "2  The neighborhood is residential and supermarke...   \n",
              "3                                                NaN   \n",
              "4  Sesto San Giovanni , in passato area dei grand...   \n",
              "\n",
              "                                         picture_url    host_id  \\\n",
              "0  https://a0.muscache.com/pictures/82aa607f-1230...  125703074   \n",
              "1  https://a0.muscache.com/pictures/111181219/85e...   46025048   \n",
              "2  https://a0.muscache.com/pictures/prohost-api/H...   28922333   \n",
              "3  https://a0.muscache.com/pictures/7ac02bb3-c285...  217593760   \n",
              "4  https://a0.muscache.com/pictures/c1341a9f-4438...   51081158   \n",
              "\n",
              "                                      host_url   host_name  host_since  \\\n",
              "0  https://www.airbnb.com/users/show/125703074  Alessandro  2017-04-13   \n",
              "1   https://www.airbnb.com/users/show/46025048          Me  2015-10-07   \n",
              "2   https://www.airbnb.com/users/show/28922333        Sara  2015-03-07   \n",
              "3  https://www.airbnb.com/users/show/217593760    Giuseppe  2018-09-27   \n",
              "4   https://www.airbnb.com/users/show/51081158      Sergio  2015-12-11   \n",
              "\n",
              "             host_location                                         host_about  \\\n",
              "0            Bresso, Italy                                                NaN   \n",
              "1                Indio, CA                                                NaN   \n",
              "2  Travedona Monate, Italy  “Siamo Sara, Valentina, Silvia e Jacopo”\\n\\nDu...   \n",
              "3             Milan, Italy  Amo realizzare i miei sogni, e attraverso il l...   \n",
              "4                      NaN                                                NaN   \n",
              "\n",
              "   host_response_time host_response_rate host_acceptance_rate  \\\n",
              "0      within an hour               100%                  99%   \n",
              "1      within an hour               100%                  76%   \n",
              "2      within an hour                87%                 100%   \n",
              "3      within an hour               100%                 100%   \n",
              "4  within a few hours               100%                  83%   \n",
              "\n",
              "  host_is_superhost                                 host_thumbnail_url  \\\n",
              "0                 t  https://a0.muscache.com/im/pictures/user/5e3cd...   \n",
              "1                 f  https://a0.muscache.com/im/users/46025048/prof...   \n",
              "2                 f  https://a0.muscache.com/im/pictures/user/5d1ef...   \n",
              "3                 t  https://a0.muscache.com/im/pictures/user/f9a1e...   \n",
              "4                 t  https://a0.muscache.com/im/pictures/user/aea8f...   \n",
              "\n",
              "                                    host_picture_url host_neighbourhood  \\\n",
              "0  https://a0.muscache.com/im/pictures/user/5e3cd...             Zona 9   \n",
              "1  https://a0.muscache.com/im/users/46025048/prof...             Zona 8   \n",
              "2  https://a0.muscache.com/im/pictures/user/5d1ef...             Zona 4   \n",
              "3  https://a0.muscache.com/im/pictures/user/f9a1e...                NaN   \n",
              "4  https://a0.muscache.com/im/pictures/user/aea8f...             Zona 9   \n",
              "\n",
              "   host_listings_count  host_total_listings_count  host_verifications  \\\n",
              "0                    2                          2  ['email', 'phone']   \n",
              "1                    2                          2  ['email', 'phone']   \n",
              "2                   90                         96  ['email', 'phone']   \n",
              "3                    3                          3  ['email', 'phone']   \n",
              "4                    2                          2  ['email', 'phone']   \n",
              "\n",
              "  host_has_profile_pic host_identity_verified  \\\n",
              "0                    t                      t   \n",
              "1                    t                      t   \n",
              "2                    t                      t   \n",
              "3                    t                      t   \n",
              "4                    t                      t   \n",
              "\n",
              "                          neighbourhood neighbourhood_cleansed  \\\n",
              "0              Bresso, Lombardia, Italy             PARCO NORD   \n",
              "1                                   NaN            GALLARATESE   \n",
              "2                Pero, Lombardia, Italy            GALLARATESE   \n",
              "3                                   NaN   PARCO BOSCO IN CITT\n",
              "   \n",
              "4  Sesto San Giovanni, Lombardia, Italy            VIALE MONZA   \n",
              "\n",
              "   neighbourhood_group_cleansed  latitude  longitude       property_type  \\\n",
              "0                           NaN  45.52950    9.19361  Entire rental unit   \n",
              "1                           NaN  45.51211    9.08715  Entire rental unit   \n",
              "2                           NaN  45.50908    9.08440  Entire rental unit   \n",
              "3                           NaN  45.52293    9.04905        Entire condo   \n",
              "4                           NaN  45.53197    9.23434  Entire rental unit   \n",
              "\n",
              "         room_type  accommodates  bathrooms bathrooms_text  bedrooms  beds  \\\n",
              "0  Entire home/apt             6        NaN         1 bath       2.0   4.0   \n",
              "1  Entire home/apt             4        NaN         1 bath       1.0   4.0   \n",
              "2  Entire home/apt             6        NaN         1 bath       2.0   5.0   \n",
              "3  Entire home/apt             3        NaN         1 bath       1.0   3.0   \n",
              "4  Entire home/apt             2        NaN         1 bath       1.0   2.0   \n",
              "\n",
              "                                           amenities    price  minimum_nights  \\\n",
              "0  [\"Free street parking\", \"Dedicated workspace\",...   $72.00               3   \n",
              "1  [\"Essentials\", \"TV\", \"Long term stays allowed\"...  $100.00               1   \n",
              "2  [\"Free street parking\", \"Essentials\", \"Long te...  $179.00               4   \n",
              "3  [\"Candy refrigerator\", \"Free street parking\", ...  $122.00               3   \n",
              "4  [\"Free street parking\", \"Essentials\", \"Long te...   $40.00               3   \n",
              "\n",
              "   maximum_nights  minimum_minimum_nights  maximum_minimum_nights  \\\n",
              "0              29                       3                       3   \n",
              "1            1125                       1                       1   \n",
              "2            1125                       2                       7   \n",
              "3            1125                       3                       3   \n",
              "4              30                       3                       3   \n",
              "\n",
              "   minimum_maximum_nights  maximum_maximum_nights  minimum_nights_avg_ntm  \\\n",
              "0                    1125                    1125                     3.0   \n",
              "1                    1125                    1125                     1.0   \n",
              "2                    1125                    1125                     3.6   \n",
              "3                    1125                    1125                     3.0   \n",
              "4                      30                      30                     3.0   \n",
              "\n",
              "   maximum_nights_avg_ntm  calendar_updated has_availability  availability_30  \\\n",
              "0                  1125.0               NaN                t                3   \n",
              "1                  1125.0               NaN                t               13   \n",
              "2                  1125.0               NaN                t               15   \n",
              "3                  1125.0               NaN                t                0   \n",
              "4                    30.0               NaN                t                0   \n",
              "\n",
              "   availability_60  availability_90  availability_365 calendar_last_scraped  \\\n",
              "0               11               27               187            2022-09-14   \n",
              "1               43               73               348            2022-09-14   \n",
              "2               33               48                98            2022-09-14   \n",
              "3                0                0               225            2022-09-14   \n",
              "4                0               12                13            2022-09-14   \n",
              "\n",
              "   number_of_reviews  number_of_reviews_ltm  number_of_reviews_l30d  \\\n",
              "0                286                     27                       3   \n",
              "1                 11                      0                       0   \n",
              "2                  2                      2                       0   \n",
              "3                  2                      2                       0   \n",
              "4                 20                      5                       0   \n",
              "\n",
              "  first_review last_review  review_scores_rating  review_scores_accuracy  \\\n",
              "0   2017-07-23  2022-09-12                  4.96                    4.95   \n",
              "1   2015-10-24  2019-11-10                  4.18                    4.55   \n",
              "2   2021-11-01  2022-07-17                  4.00                    5.00   \n",
              "3   2022-06-08  2022-06-11                  4.50                    4.50   \n",
              "4   2018-10-22  2022-05-09                  4.95                    4.95   \n",
              "\n",
              "   review_scores_cleanliness  review_scores_checkin  \\\n",
              "0                       4.98                   4.98   \n",
              "1                       4.00                   4.82   \n",
              "2                       5.00                   4.50   \n",
              "3                       4.50                   5.00   \n",
              "4                       5.00                   5.00   \n",
              "\n",
              "   review_scores_communication  review_scores_location  review_scores_value  \\\n",
              "0                         4.99                    4.57                 4.90   \n",
              "1                         5.00                    4.27                 3.55   \n",
              "2                         4.50                    4.00                 4.00   \n",
              "3                         4.50                    5.00                 5.00   \n",
              "4                         5.00                    4.75                 4.80   \n",
              "\n",
              "  license instant_bookable  calculated_host_listings_count  \\\n",
              "0     NaN                t                               2   \n",
              "1     NaN                f                               2   \n",
              "2     NaN                t                              11   \n",
              "3     NaN                f                               1   \n",
              "4  T01025                f                               2   \n",
              "\n",
              "   calculated_host_listings_count_entire_homes  \\\n",
              "0                                            2   \n",
              "1                                            2   \n",
              "2                                           11   \n",
              "3                                            1   \n",
              "4                                            2   \n",
              "\n",
              "   calculated_host_listings_count_private_rooms  \\\n",
              "0                                             0   \n",
              "1                                             0   \n",
              "2                                             0   \n",
              "3                                             0   \n",
              "4                                             0   \n",
              "\n",
              "   calculated_host_listings_count_shared_rooms  reviews_per_month  \n",
              "0                                            0               4.56  \n",
              "1                                            0               0.13  \n",
              "2                                            0               0.19  \n",
              "3                                            0               0.61  \n",
              "4                                            0               0.42  "
            ],
            "text/html": [
              "\n",
              "  <div id=\"df-28233209-2e23-4284-a1e0-aa2aa182c144\">\n",
              "    <div class=\"colab-df-container\">\n",
              "      <div>\n",
              "<style scoped>\n",
              "    .dataframe tbody tr th:only-of-type {\n",
              "        vertical-align: middle;\n",
              "    }\n",
              "\n",
              "    .dataframe tbody tr th {\n",
              "        vertical-align: top;\n",
              "    }\n",
              "\n",
              "    .dataframe thead th {\n",
              "        text-align: right;\n",
              "    }\n",
              "</style>\n",
              "<table border=\"1\" class=\"dataframe\">\n",
              "  <thead>\n",
              "    <tr style=\"text-align: right;\">\n",
              "      <th></th>\n",
              "      <th>id</th>\n",
              "      <th>listing_url</th>\n",
              "      <th>scrape_id</th>\n",
              "      <th>last_scraped</th>\n",
              "      <th>source</th>\n",
              "      <th>name</th>\n",
              "      <th>description</th>\n",
              "      <th>neighborhood_overview</th>\n",
              "      <th>picture_url</th>\n",
              "      <th>host_id</th>\n",
              "      <th>host_url</th>\n",
              "      <th>host_name</th>\n",
              "      <th>host_since</th>\n",
              "      <th>host_location</th>\n",
              "      <th>host_about</th>\n",
              "      <th>host_response_time</th>\n",
              "      <th>host_response_rate</th>\n",
              "      <th>host_acceptance_rate</th>\n",
              "      <th>host_is_superhost</th>\n",
              "      <th>host_thumbnail_url</th>\n",
              "      <th>host_picture_url</th>\n",
              "      <th>host_neighbourhood</th>\n",
              "      <th>host_listings_count</th>\n",
              "      <th>host_total_listings_count</th>\n",
              "      <th>host_verifications</th>\n",
              "      <th>host_has_profile_pic</th>\n",
              "      <th>host_identity_verified</th>\n",
              "      <th>neighbourhood</th>\n",
              "      <th>neighbourhood_cleansed</th>\n",
              "      <th>neighbourhood_group_cleansed</th>\n",
              "      <th>latitude</th>\n",
              "      <th>longitude</th>\n",
              "      <th>property_type</th>\n",
              "      <th>room_type</th>\n",
              "      <th>accommodates</th>\n",
              "      <th>bathrooms</th>\n",
              "      <th>bathrooms_text</th>\n",
              "      <th>bedrooms</th>\n",
              "      <th>beds</th>\n",
              "      <th>amenities</th>\n",
              "      <th>price</th>\n",
              "      <th>minimum_nights</th>\n",
              "      <th>maximum_nights</th>\n",
              "      <th>minimum_minimum_nights</th>\n",
              "      <th>maximum_minimum_nights</th>\n",
              "      <th>minimum_maximum_nights</th>\n",
              "      <th>maximum_maximum_nights</th>\n",
              "      <th>minimum_nights_avg_ntm</th>\n",
              "      <th>maximum_nights_avg_ntm</th>\n",
              "      <th>calendar_updated</th>\n",
              "      <th>has_availability</th>\n",
              "      <th>availability_30</th>\n",
              "      <th>availability_60</th>\n",
              "      <th>availability_90</th>\n",
              "      <th>availability_365</th>\n",
              "      <th>calendar_last_scraped</th>\n",
              "      <th>number_of_reviews</th>\n",
              "      <th>number_of_reviews_ltm</th>\n",
              "      <th>number_of_reviews_l30d</th>\n",
              "      <th>first_review</th>\n",
              "      <th>last_review</th>\n",
              "      <th>review_scores_rating</th>\n",
              "      <th>review_scores_accuracy</th>\n",
              "      <th>review_scores_cleanliness</th>\n",
              "      <th>review_scores_checkin</th>\n",
              "      <th>review_scores_communication</th>\n",
              "      <th>review_scores_location</th>\n",
              "      <th>review_scores_value</th>\n",
              "      <th>license</th>\n",
              "      <th>instant_bookable</th>\n",
              "      <th>calculated_host_listings_count</th>\n",
              "      <th>calculated_host_listings_count_entire_homes</th>\n",
              "      <th>calculated_host_listings_count_private_rooms</th>\n",
              "      <th>calculated_host_listings_count_shared_rooms</th>\n",
              "      <th>reviews_per_month</th>\n",
              "    </tr>\n",
              "  </thead>\n",
              "  <tbody>\n",
              "    <tr>\n",
              "      <th>0</th>\n",
              "      <td>18208903</td>\n",
              "      <td>https://www.airbnb.com/rooms/18208903</td>\n",
              "      <td>20220914194812</td>\n",
              "      <td>2022-09-14</td>\n",
              "      <td>city scrape</td>\n",
              "      <td>Casa Caterina Parco Nord Milano</td>\n",
              "      <td>Beautiful apartment located in the green of Pa...</td>\n",
              "      <td>Public Transport to the Milano City Center at ...</td>\n",
              "      <td>https://a0.muscache.com/pictures/82aa607f-1230...</td>\n",
              "      <td>125703074</td>\n",
              "      <td>https://www.airbnb.com/users/show/125703074</td>\n",
              "      <td>Alessandro</td>\n",
              "      <td>2017-04-13</td>\n",
              "      <td>Bresso, Italy</td>\n",
              "      <td>NaN</td>\n",
              "      <td>within an hour</td>\n",
              "      <td>100%</td>\n",
              "      <td>99%</td>\n",
              "      <td>t</td>\n",
              "      <td>https://a0.muscache.com/im/pictures/user/5e3cd...</td>\n",
              "      <td>https://a0.muscache.com/im/pictures/user/5e3cd...</td>\n",
              "      <td>Zona 9</td>\n",
              "      <td>2</td>\n",
              "      <td>2</td>\n",
              "      <td>['email', 'phone']</td>\n",
              "      <td>t</td>\n",
              "      <td>t</td>\n",
              "      <td>Bresso, Lombardia, Italy</td>\n",
              "      <td>PARCO NORD</td>\n",
              "      <td>NaN</td>\n",
              "      <td>45.52950</td>\n",
              "      <td>9.19361</td>\n",
              "      <td>Entire rental unit</td>\n",
              "      <td>Entire home/apt</td>\n",
              "      <td>6</td>\n",
              "      <td>NaN</td>\n",
              "      <td>1 bath</td>\n",
              "      <td>2.0</td>\n",
              "      <td>4.0</td>\n",
              "      <td>[\"Free street parking\", \"Dedicated workspace\",...</td>\n",
              "      <td>$72.00</td>\n",
              "      <td>3</td>\n",
              "      <td>29</td>\n",
              "      <td>3</td>\n",
              "      <td>3</td>\n",
              "      <td>1125</td>\n",
              "      <td>1125</td>\n",
              "      <td>3.0</td>\n",
              "      <td>1125.0</td>\n",
              "      <td>NaN</td>\n",
              "      <td>t</td>\n",
              "      <td>3</td>\n",
              "      <td>11</td>\n",
              "      <td>27</td>\n",
              "      <td>187</td>\n",
              "      <td>2022-09-14</td>\n",
              "      <td>286</td>\n",
              "      <td>27</td>\n",
              "      <td>3</td>\n",
              "      <td>2017-07-23</td>\n",
              "      <td>2022-09-12</td>\n",
              "      <td>4.96</td>\n",
              "      <td>4.95</td>\n",
              "      <td>4.98</td>\n",
              "      <td>4.98</td>\n",
              "      <td>4.99</td>\n",
              "      <td>4.57</td>\n",
              "      <td>4.90</td>\n",
              "      <td>NaN</td>\n",
              "      <td>t</td>\n",
              "      <td>2</td>\n",
              "      <td>2</td>\n",
              "      <td>0</td>\n",
              "      <td>0</td>\n",
              "      <td>4.56</td>\n",
              "    </tr>\n",
              "    <tr>\n",
              "      <th>1</th>\n",
              "      <td>8780479</td>\n",
              "      <td>https://www.airbnb.com/rooms/8780479</td>\n",
              "      <td>20220914194812</td>\n",
              "      <td>2022-09-14</td>\n",
              "      <td>city scrape</td>\n",
              "      <td>bilocale zona expo/fiera rho</td>\n",
              "      <td>Appartamento bilocale moderno e funzionale con...</td>\n",
              "      <td>NaN</td>\n",
              "      <td>https://a0.muscache.com/pictures/111181219/85e...</td>\n",
              "      <td>46025048</td>\n",
              "      <td>https://www.airbnb.com/users/show/46025048</td>\n",
              "      <td>Me</td>\n",
              "      <td>2015-10-07</td>\n",
              "      <td>Indio, CA</td>\n",
              "      <td>NaN</td>\n",
              "      <td>within an hour</td>\n",
              "      <td>100%</td>\n",
              "      <td>76%</td>\n",
              "      <td>f</td>\n",
              "      <td>https://a0.muscache.com/im/users/46025048/prof...</td>\n",
              "      <td>https://a0.muscache.com/im/users/46025048/prof...</td>\n",
              "      <td>Zona 8</td>\n",
              "      <td>2</td>\n",
              "      <td>2</td>\n",
              "      <td>['email', 'phone']</td>\n",
              "      <td>t</td>\n",
              "      <td>t</td>\n",
              "      <td>NaN</td>\n",
              "      <td>GALLARATESE</td>\n",
              "      <td>NaN</td>\n",
              "      <td>45.51211</td>\n",
              "      <td>9.08715</td>\n",
              "      <td>Entire rental unit</td>\n",
              "      <td>Entire home/apt</td>\n",
              "      <td>4</td>\n",
              "      <td>NaN</td>\n",
              "      <td>1 bath</td>\n",
              "      <td>1.0</td>\n",
              "      <td>4.0</td>\n",
              "      <td>[\"Essentials\", \"TV\", \"Long term stays allowed\"...</td>\n",
              "      <td>$100.00</td>\n",
              "      <td>1</td>\n",
              "      <td>1125</td>\n",
              "      <td>1</td>\n",
              "      <td>1</td>\n",
              "      <td>1125</td>\n",
              "      <td>1125</td>\n",
              "      <td>1.0</td>\n",
              "      <td>1125.0</td>\n",
              "      <td>NaN</td>\n",
              "      <td>t</td>\n",
              "      <td>13</td>\n",
              "      <td>43</td>\n",
              "      <td>73</td>\n",
              "      <td>348</td>\n",
              "      <td>2022-09-14</td>\n",
              "      <td>11</td>\n",
              "      <td>0</td>\n",
              "      <td>0</td>\n",
              "      <td>2015-10-24</td>\n",
              "      <td>2019-11-10</td>\n",
              "      <td>4.18</td>\n",
              "      <td>4.55</td>\n",
              "      <td>4.00</td>\n",
              "      <td>4.82</td>\n",
              "      <td>5.00</td>\n",
              "      <td>4.27</td>\n",
              "      <td>3.55</td>\n",
              "      <td>NaN</td>\n",
              "      <td>f</td>\n",
              "      <td>2</td>\n",
              "      <td>2</td>\n",
              "      <td>0</td>\n",
              "      <td>0</td>\n",
              "      <td>0.13</td>\n",
              "    </tr>\n",
              "    <tr>\n",
              "      <th>2</th>\n",
              "      <td>34771515</td>\n",
              "      <td>https://www.airbnb.com/rooms/34771515</td>\n",
              "      <td>20220914194812</td>\n",
              "      <td>2022-09-14</td>\n",
              "      <td>city scrape</td>\n",
              "      <td>Bnbook-OlonaTriloB-Fiera Milano-Pero with high...</td>\n",
              "      <td>Comfortable 3-rooms apartment for 6 people in ...</td>\n",
              "      <td>The neighborhood is residential and supermarke...</td>\n",
              "      <td>https://a0.muscache.com/pictures/prohost-api/H...</td>\n",
              "      <td>28922333</td>\n",
              "      <td>https://www.airbnb.com/users/show/28922333</td>\n",
              "      <td>Sara</td>\n",
              "      <td>2015-03-07</td>\n",
              "      <td>Travedona Monate, Italy</td>\n",
              "      <td>“Siamo Sara, Valentina, Silvia e Jacopo”\\n\\nDu...</td>\n",
              "      <td>within an hour</td>\n",
              "      <td>87%</td>\n",
              "      <td>100%</td>\n",
              "      <td>f</td>\n",
              "      <td>https://a0.muscache.com/im/pictures/user/5d1ef...</td>\n",
              "      <td>https://a0.muscache.com/im/pictures/user/5d1ef...</td>\n",
              "      <td>Zona 4</td>\n",
              "      <td>90</td>\n",
              "      <td>96</td>\n",
              "      <td>['email', 'phone']</td>\n",
              "      <td>t</td>\n",
              "      <td>t</td>\n",
              "      <td>Pero, Lombardia, Italy</td>\n",
              "      <td>GALLARATESE</td>\n",
              "      <td>NaN</td>\n",
              "      <td>45.50908</td>\n",
              "      <td>9.08440</td>\n",
              "      <td>Entire rental unit</td>\n",
              "      <td>Entire home/apt</td>\n",
              "      <td>6</td>\n",
              "      <td>NaN</td>\n",
              "      <td>1 bath</td>\n",
              "      <td>2.0</td>\n",
              "      <td>5.0</td>\n",
              "      <td>[\"Free street parking\", \"Essentials\", \"Long te...</td>\n",
              "      <td>$179.00</td>\n",
              "      <td>4</td>\n",
              "      <td>1125</td>\n",
              "      <td>2</td>\n",
              "      <td>7</td>\n",
              "      <td>1125</td>\n",
              "      <td>1125</td>\n",
              "      <td>3.6</td>\n",
              "      <td>1125.0</td>\n",
              "      <td>NaN</td>\n",
              "      <td>t</td>\n",
              "      <td>15</td>\n",
              "      <td>33</td>\n",
              "      <td>48</td>\n",
              "      <td>98</td>\n",
              "      <td>2022-09-14</td>\n",
              "      <td>2</td>\n",
              "      <td>2</td>\n",
              "      <td>0</td>\n",
              "      <td>2021-11-01</td>\n",
              "      <td>2022-07-17</td>\n",
              "      <td>4.00</td>\n",
              "      <td>5.00</td>\n",
              "      <td>5.00</td>\n",
              "      <td>4.50</td>\n",
              "      <td>4.50</td>\n",
              "      <td>4.00</td>\n",
              "      <td>4.00</td>\n",
              "      <td>NaN</td>\n",
              "      <td>t</td>\n",
              "      <td>11</td>\n",
              "      <td>11</td>\n",
              "      <td>0</td>\n",
              "      <td>0</td>\n",
              "      <td>0.19</td>\n",
              "    </tr>\n",
              "    <tr>\n",
              "      <th>3</th>\n",
              "      <td>604703529081024264</td>\n",
              "      <td>https://www.airbnb.com/rooms/604703529081024264</td>\n",
              "      <td>20220914194812</td>\n",
              "      <td>2022-09-14</td>\n",
              "      <td>city scrape</td>\n",
              "      <td>Appartamento incantevole in piccola corte a Rho</td>\n",
              "      <td>Appartamento incantevole a Rho , completo di t...</td>\n",
              "      <td>NaN</td>\n",
              "      <td>https://a0.muscache.com/pictures/7ac02bb3-c285...</td>\n",
              "      <td>217593760</td>\n",
              "      <td>https://www.airbnb.com/users/show/217593760</td>\n",
              "      <td>Giuseppe</td>\n",
              "      <td>2018-09-27</td>\n",
              "      <td>Milan, Italy</td>\n",
              "      <td>Amo realizzare i miei sogni, e attraverso il l...</td>\n",
              "      <td>within an hour</td>\n",
              "      <td>100%</td>\n",
              "      <td>100%</td>\n",
              "      <td>t</td>\n",
              "      <td>https://a0.muscache.com/im/pictures/user/f9a1e...</td>\n",
              "      <td>https://a0.muscache.com/im/pictures/user/f9a1e...</td>\n",
              "      <td>NaN</td>\n",
              "      <td>3</td>\n",
              "      <td>3</td>\n",
              "      <td>['email', 'phone']</td>\n",
              "      <td>t</td>\n",
              "      <td>t</td>\n",
              "      <td>NaN</td>\n",
              "      <td>PARCO BOSCO IN CITT</td>\n",
              "      <td>NaN</td>\n",
              "      <td>45.52293</td>\n",
              "      <td>9.04905</td>\n",
              "      <td>Entire condo</td>\n",
              "      <td>Entire home/apt</td>\n",
              "      <td>3</td>\n",
              "      <td>NaN</td>\n",
              "      <td>1 bath</td>\n",
              "      <td>1.0</td>\n",
              "      <td>3.0</td>\n",
              "      <td>[\"Candy refrigerator\", \"Free street parking\", ...</td>\n",
              "      <td>$122.00</td>\n",
              "      <td>3</td>\n",
              "      <td>1125</td>\n",
              "      <td>3</td>\n",
              "      <td>3</td>\n",
              "      <td>1125</td>\n",
              "      <td>1125</td>\n",
              "      <td>3.0</td>\n",
              "      <td>1125.0</td>\n",
              "      <td>NaN</td>\n",
              "      <td>t</td>\n",
              "      <td>0</td>\n",
              "      <td>0</td>\n",
              "      <td>0</td>\n",
              "      <td>225</td>\n",
              "      <td>2022-09-14</td>\n",
              "      <td>2</td>\n",
              "      <td>2</td>\n",
              "      <td>0</td>\n",
              "      <td>2022-06-08</td>\n",
              "      <td>2022-06-11</td>\n",
              "      <td>4.50</td>\n",
              "      <td>4.50</td>\n",
              "      <td>4.50</td>\n",
              "      <td>5.00</td>\n",
              "      <td>4.50</td>\n",
              "      <td>5.00</td>\n",
              "      <td>5.00</td>\n",
              "      <td>NaN</td>\n",
              "      <td>f</td>\n",
              "      <td>1</td>\n",
              "      <td>1</td>\n",
              "      <td>0</td>\n",
              "      <td>0</td>\n",
              "      <td>0.61</td>\n",
              "    </tr>\n",
              "    <tr>\n",
              "      <th>4</th>\n",
              "      <td>23138039</td>\n",
              "      <td>https://www.airbnb.com/rooms/23138039</td>\n",
              "      <td>20220914194812</td>\n",
              "      <td>2022-09-14</td>\n",
              "      <td>city scrape</td>\n",
              "      <td>Sesto centro</td>\n",
              "      <td>Delizioso appartamento ubicato al sesto ed ult...</td>\n",
              "      <td>Sesto San Giovanni , in passato area dei grand...</td>\n",
              "      <td>https://a0.muscache.com/pictures/c1341a9f-4438...</td>\n",
              "      <td>51081158</td>\n",
              "      <td>https://www.airbnb.com/users/show/51081158</td>\n",
              "      <td>Sergio</td>\n",
              "      <td>2015-12-11</td>\n",
              "      <td>NaN</td>\n",
              "      <td>NaN</td>\n",
              "      <td>within a few hours</td>\n",
              "      <td>100%</td>\n",
              "      <td>83%</td>\n",
              "      <td>t</td>\n",
              "      <td>https://a0.muscache.com/im/pictures/user/aea8f...</td>\n",
              "      <td>https://a0.muscache.com/im/pictures/user/aea8f...</td>\n",
              "      <td>Zona 9</td>\n",
              "      <td>2</td>\n",
              "      <td>2</td>\n",
              "      <td>['email', 'phone']</td>\n",
              "      <td>t</td>\n",
              "      <td>t</td>\n",
              "      <td>Sesto San Giovanni, Lombardia, Italy</td>\n",
              "      <td>VIALE MONZA</td>\n",
              "      <td>NaN</td>\n",
              "      <td>45.53197</td>\n",
              "      <td>9.23434</td>\n",
              "      <td>Entire rental unit</td>\n",
              "      <td>Entire home/apt</td>\n",
              "      <td>2</td>\n",
              "      <td>NaN</td>\n",
              "      <td>1 bath</td>\n",
              "      <td>1.0</td>\n",
              "      <td>2.0</td>\n",
              "      <td>[\"Free street parking\", \"Essentials\", \"Long te...</td>\n",
              "      <td>$40.00</td>\n",
              "      <td>3</td>\n",
              "      <td>30</td>\n",
              "      <td>3</td>\n",
              "      <td>3</td>\n",
              "      <td>30</td>\n",
              "      <td>30</td>\n",
              "      <td>3.0</td>\n",
              "      <td>30.0</td>\n",
              "      <td>NaN</td>\n",
              "      <td>t</td>\n",
              "      <td>0</td>\n",
              "      <td>0</td>\n",
              "      <td>12</td>\n",
              "      <td>13</td>\n",
              "      <td>2022-09-14</td>\n",
              "      <td>20</td>\n",
              "      <td>5</td>\n",
              "      <td>0</td>\n",
              "      <td>2018-10-22</td>\n",
              "      <td>2022-05-09</td>\n",
              "      <td>4.95</td>\n",
              "      <td>4.95</td>\n",
              "      <td>5.00</td>\n",
              "      <td>5.00</td>\n",
              "      <td>5.00</td>\n",
              "      <td>4.75</td>\n",
              "      <td>4.80</td>\n",
              "      <td>T01025</td>\n",
              "      <td>f</td>\n",
              "      <td>2</td>\n",
              "      <td>2</td>\n",
              "      <td>0</td>\n",
              "      <td>0</td>\n",
              "      <td>0.42</td>\n",
              "    </tr>\n",
              "  </tbody>\n",
              "</table>\n",
              "</div>\n",
              "      <button class=\"colab-df-convert\" onclick=\"convertToInteractive('df-28233209-2e23-4284-a1e0-aa2aa182c144')\"\n",
              "              title=\"Convert this dataframe to an interactive table.\"\n",
              "              style=\"display:none;\">\n",
              "        \n",
              "  <svg xmlns=\"http://www.w3.org/2000/svg\" height=\"24px\"viewBox=\"0 0 24 24\"\n",
              "       width=\"24px\">\n",
              "    <path d=\"M0 0h24v24H0V0z\" fill=\"none\"/>\n",
              "    <path d=\"M18.56 5.44l.94 2.06.94-2.06 2.06-.94-2.06-.94-.94-2.06-.94 2.06-2.06.94zm-11 1L8.5 8.5l.94-2.06 2.06-.94-2.06-.94L8.5 2.5l-.94 2.06-2.06.94zm10 10l.94 2.06.94-2.06 2.06-.94-2.06-.94-.94-2.06-.94 2.06-2.06.94z\"/><path d=\"M17.41 7.96l-1.37-1.37c-.4-.4-.92-.59-1.43-.59-.52 0-1.04.2-1.43.59L10.3 9.45l-7.72 7.72c-.78.78-.78 2.05 0 2.83L4 21.41c.39.39.9.59 1.41.59.51 0 1.02-.2 1.41-.59l7.78-7.78 2.81-2.81c.8-.78.8-2.07 0-2.86zM5.41 20L4 18.59l7.72-7.72 1.47 1.35L5.41 20z\"/>\n",
              "  </svg>\n",
              "      </button>\n",
              "      \n",
              "  <style>\n",
              "    .colab-df-container {\n",
              "      display:flex;\n",
              "      flex-wrap:wrap;\n",
              "      gap: 12px;\n",
              "    }\n",
              "\n",
              "    .colab-df-convert {\n",
              "      background-color: #E8F0FE;\n",
              "      border: none;\n",
              "      border-radius: 50%;\n",
              "      cursor: pointer;\n",
              "      display: none;\n",
              "      fill: #1967D2;\n",
              "      height: 32px;\n",
              "      padding: 0 0 0 0;\n",
              "      width: 32px;\n",
              "    }\n",
              "\n",
              "    .colab-df-convert:hover {\n",
              "      background-color: #E2EBFA;\n",
              "      box-shadow: 0px 1px 2px rgba(60, 64, 67, 0.3), 0px 1px 3px 1px rgba(60, 64, 67, 0.15);\n",
              "      fill: #174EA6;\n",
              "    }\n",
              "\n",
              "    [theme=dark] .colab-df-convert {\n",
              "      background-color: #3B4455;\n",
              "      fill: #D2E3FC;\n",
              "    }\n",
              "\n",
              "    [theme=dark] .colab-df-convert:hover {\n",
              "      background-color: #434B5C;\n",
              "      box-shadow: 0px 1px 3px 1px rgba(0, 0, 0, 0.15);\n",
              "      filter: drop-shadow(0px 1px 2px rgba(0, 0, 0, 0.3));\n",
              "      fill: #FFFFFF;\n",
              "    }\n",
              "  </style>\n",
              "\n",
              "      <script>\n",
              "        const buttonEl =\n",
              "          document.querySelector('#df-28233209-2e23-4284-a1e0-aa2aa182c144 button.colab-df-convert');\n",
              "        buttonEl.style.display =\n",
              "          google.colab.kernel.accessAllowed ? 'block' : 'none';\n",
              "\n",
              "        async function convertToInteractive(key) {\n",
              "          const element = document.querySelector('#df-28233209-2e23-4284-a1e0-aa2aa182c144');\n",
              "          const dataTable =\n",
              "            await google.colab.kernel.invokeFunction('convertToInteractive',\n",
              "                                                     [key], {});\n",
              "          if (!dataTable) return;\n",
              "\n",
              "          const docLinkHtml = 'Like what you see? Visit the ' +\n",
              "            '<a target=\"_blank\" href=https://colab.research.google.com/notebooks/data_table.ipynb>data table notebook</a>'\n",
              "            + ' to learn more about interactive tables.';\n",
              "          element.innerHTML = '';\n",
              "          dataTable['output_type'] = 'display_data';\n",
              "          await google.colab.output.renderOutput(dataTable, element);\n",
              "          const docLink = document.createElement('div');\n",
              "          docLink.innerHTML = docLinkHtml;\n",
              "          element.appendChild(docLink);\n",
              "        }\n",
              "      </script>\n",
              "    </div>\n",
              "  </div>\n",
              "  "
            ]
          },
          "metadata": {},
          "execution_count": 282
        }
      ],
      "source": [
        "import numpy as np\n",
        "import pandas as pd \n",
        "\n",
        "#1.Poprawne załadowanie zbioru danych\n",
        "df = pd.read_csv(\"http://data.insideairbnb.com/italy/lombardy/milan/2022-09-14/data/listings.csv.gz\")\n",
        "df.head()"
      ]
    },
    {
      "cell_type": "code",
      "execution_count": 283,
      "metadata": {
        "id": "9bgeRnALXoH0"
      },
      "outputs": [],
      "source": [
        "pd.set_option('display.max_columns', None)"
      ]
    },
    {
      "cell_type": "code",
      "execution_count": 284,
      "metadata": {
        "id": "4Rxr9IOXXq0d"
      },
      "outputs": [],
      "source": [
        "df"
      ]
    },
    {
      "cell_type": "code",
      "execution_count": 285,
      "metadata": {
        "id": "vI3JDbcLXwlv"
      },
      "outputs": [],
      "source": [
        "#2.Poznanie rozmiaru danych\n",
        "df.info()"
      ]
    },
    {
      "cell_type": "code",
      "execution_count": null,
      "metadata": {
        "id": "zICqVm1VYuGf"
      },
      "outputs": [],
      "source": [
        "pd.set_option('display.max_columns', None)\n",
        "df.nunique()"
      ]
    },
    {
      "cell_type": "code",
      "execution_count": null,
      "metadata": {
        "id": "bOm-BCjMZ_v5"
      },
      "outputs": [],
      "source": [
        "df['host_verifications'].unique()"
      ]
    },
    {
      "cell_type": "code",
      "execution_count": null,
      "metadata": {
        "id": "tdR6SwzIpm4z"
      },
      "outputs": [],
      "source": [
        "df['bathrooms_text'].unique()"
      ]
    },
    {
      "cell_type": "code",
      "execution_count": null,
      "metadata": {
        "id": "TYYGHzoIp_8x"
      },
      "outputs": [],
      "source": [
        "df.describe()"
      ]
    },
    {
      "cell_type": "code",
      "execution_count": null,
      "metadata": {
        "id": "DJ6YK76Ec2a0"
      },
      "outputs": [],
      "source": [
        "df['neighbourhood_group_cleansed'].isnull().sum()"
      ]
    },
    {
      "cell_type": "code",
      "execution_count": null,
      "metadata": {
        "id": "1Y2qrrkgd3Ip"
      },
      "outputs": [],
      "source": [
        "df['host_response_time'].unique()"
      ]
    },
    {
      "cell_type": "code",
      "execution_count": null,
      "metadata": {
        "id": "o1rTTWaFd_Rw"
      },
      "outputs": [],
      "source": [
        "df['price'].unique()"
      ]
    },
    {
      "cell_type": "code",
      "execution_count": null,
      "metadata": {
        "id": "Qs_dNxiSeZiU"
      },
      "outputs": [],
      "source": [
        "pd.set_option('display.max_rows', None)\n",
        "\n",
        "df.isnull().sum()\n",
        "#Kolumny bathrooms oraz neighbourhood_group_cleansed zawierają same wartości null, a więc są nieprzydatne"
      ]
    },
    {
      "cell_type": "code",
      "execution_count": null,
      "metadata": {
        "id": "DcltjbBffN1A"
      },
      "outputs": [],
      "source": [
        "df['name'].unique()\n",
        "#atrybut name, też wydaje się mało użytyczny"
      ]
    },
    {
      "cell_type": "code",
      "execution_count": null,
      "metadata": {
        "id": "bTPdSpH6fhX1"
      },
      "outputs": [],
      "source": [
        "df['source'].unique()"
      ]
    },
    {
      "cell_type": "code",
      "execution_count": null,
      "metadata": {
        "id": "_D8OpRkNfvs3"
      },
      "outputs": [],
      "source": [
        "df['neighborhood_overview'].unique()\n",
        "#Z tego atrybutu również ciężko będzie wyciągnać przydatne informacji z uwagi na długość tekstu"
      ]
    },
    {
      "cell_type": "code",
      "execution_count": null,
      "metadata": {
        "id": "uZF7mZ1rgRPj"
      },
      "outputs": [],
      "source": [
        "df['host_name'].describe()"
      ]
    },
    {
      "cell_type": "code",
      "execution_count": null,
      "metadata": {
        "id": "eRL8cGUXgo6u"
      },
      "outputs": [],
      "source": [
        "df['host_since'].describe()"
      ]
    },
    {
      "cell_type": "code",
      "execution_count": null,
      "metadata": {
        "id": "hIaoyw3lh-p9"
      },
      "outputs": [],
      "source": [
        "df['host_location'].describe()"
      ]
    },
    {
      "cell_type": "code",
      "execution_count": null,
      "metadata": {
        "id": "DaO4RE_8jjgM"
      },
      "outputs": [],
      "source": [
        "df['host_response_time'].describe()"
      ]
    },
    {
      "cell_type": "code",
      "execution_count": null,
      "metadata": {
        "id": "SBlHMQJWjvFe"
      },
      "outputs": [],
      "source": [
        "df['host_response_rate'].describe()"
      ]
    },
    {
      "cell_type": "code",
      "execution_count": null,
      "metadata": {
        "id": "lK3q9WDxj584"
      },
      "outputs": [],
      "source": [
        "df['host_acceptance_rate'].describe()"
      ]
    },
    {
      "cell_type": "code",
      "execution_count": null,
      "metadata": {
        "id": "eZWruyZzkGSO"
      },
      "outputs": [],
      "source": [
        "df['host_is_superhost'].unique() #atrybut do przeróbki na wartość bool"
      ]
    },
    {
      "cell_type": "code",
      "execution_count": null,
      "metadata": {
        "id": "VO3EtX0IkWDp"
      },
      "outputs": [],
      "source": [
        "df['host_neighbourhood'].describe()"
      ]
    },
    {
      "cell_type": "code",
      "execution_count": null,
      "metadata": {
        "id": "KErOl6bako5o"
      },
      "outputs": [],
      "source": [
        "df['host_listings_count'].describe()"
      ]
    },
    {
      "cell_type": "code",
      "execution_count": null,
      "metadata": {
        "id": "FSGSHOPJk55M"
      },
      "outputs": [],
      "source": [
        "df['host_total_listings_count'].describe()"
      ]
    },
    {
      "cell_type": "code",
      "execution_count": null,
      "metadata": {
        "id": "VmwfvS50lS6_"
      },
      "outputs": [],
      "source": [
        "df['host_verifications'].unique()"
      ]
    },
    {
      "cell_type": "code",
      "execution_count": null,
      "metadata": {
        "id": "9xwX6MKNljMH"
      },
      "outputs": [],
      "source": [
        "df['host_about'].unique() #atrybut ma duzo wartosci null, być może przydatnym będzie przerobienie go na has_host_about z wartościami true, false"
      ]
    },
    {
      "cell_type": "code",
      "execution_count": null,
      "metadata": {
        "id": "V40Dhq8MlzaB"
      },
      "outputs": [],
      "source": [
        "df['host_has_profile_pic'].unique()"
      ]
    },
    {
      "cell_type": "code",
      "execution_count": null,
      "metadata": {
        "id": "RJEnAq67mmnV"
      },
      "outputs": [],
      "source": [
        "df['host_identity_verified'].unique()"
      ]
    },
    {
      "cell_type": "code",
      "execution_count": null,
      "metadata": {
        "id": "H2JT1plomvyX"
      },
      "outputs": [],
      "source": [
        "df['neighbourhood'].unique() #z tego atrybutu można by uzyskać taki atrybutu jak miasto"
      ]
    },
    {
      "cell_type": "code",
      "execution_count": null,
      "metadata": {
        "id": "oIyC7kXAoXBc"
      },
      "outputs": [],
      "source": [
        "df['neighbourhood_cleansed'].unique()"
      ]
    },
    {
      "cell_type": "code",
      "execution_count": null,
      "metadata": {
        "id": "WLshUHKIR5f1"
      },
      "outputs": [],
      "source": [
        "df['latitude'].describe()"
      ]
    },
    {
      "cell_type": "code",
      "execution_count": null,
      "metadata": {
        "id": "NczuZ3Q5TCBW"
      },
      "outputs": [],
      "source": [
        "df['longitude'].describe()"
      ]
    },
    {
      "cell_type": "code",
      "execution_count": null,
      "metadata": {
        "id": "gM1xIF73TMay"
      },
      "outputs": [],
      "source": [
        "df['property_type'].unique() #zbyt dużo różnych kategorii, parametr room_type ze względu na mniejszą liczbę unikalnych wartości wygląda na bardziej przydatny"
      ]
    },
    {
      "cell_type": "code",
      "execution_count": null,
      "metadata": {
        "id": "JSXFlmmaU_Xu"
      },
      "outputs": [],
      "source": [
        "df['room_type'].unique()"
      ]
    },
    {
      "cell_type": "code",
      "execution_count": null,
      "metadata": {
        "id": "bHDHK85gVTva"
      },
      "outputs": [],
      "source": [
        "df['accommodates'].unique()"
      ]
    },
    {
      "cell_type": "code",
      "execution_count": null,
      "metadata": {
        "id": "P4Ull12YVwHF"
      },
      "outputs": [],
      "source": [
        "df['minimum_nights'].unique()"
      ]
    },
    {
      "cell_type": "code",
      "execution_count": null,
      "metadata": {
        "id": "c8jgLVhvWQ9i"
      },
      "outputs": [],
      "source": [
        "df['maximum_nights'].unique()"
      ]
    },
    {
      "cell_type": "code",
      "execution_count": null,
      "metadata": {
        "id": "JLTnlNjUXLwe"
      },
      "outputs": [],
      "source": [
        "df['bedrooms'].unique()"
      ]
    },
    {
      "cell_type": "code",
      "execution_count": null,
      "metadata": {
        "id": "AMhnaSs0XQdM"
      },
      "outputs": [],
      "source": [
        "df['beds'].unique()"
      ]
    },
    {
      "cell_type": "code",
      "execution_count": null,
      "metadata": {
        "id": "7J1ukGRNXmeG"
      },
      "outputs": [],
      "source": [
        "df['calendar_updated'].unique() # empty column"
      ]
    },
    {
      "cell_type": "code",
      "execution_count": null,
      "metadata": {
        "id": "bCtli5cdX6MQ"
      },
      "outputs": [],
      "source": [
        "df['has_availability'].unique()"
      ]
    },
    {
      "cell_type": "code",
      "execution_count": null,
      "metadata": {
        "id": "vPNSrfStZ71C"
      },
      "outputs": [],
      "source": [
        "df['number_of_reviews'].unique()"
      ]
    },
    {
      "cell_type": "code",
      "execution_count": null,
      "metadata": {
        "id": "kLZOkCGXcAEe"
      },
      "outputs": [],
      "source": [
        "df['first_review'].unique()"
      ]
    },
    {
      "cell_type": "code",
      "execution_count": null,
      "metadata": {
        "id": "_7-gTZ_qcJqT"
      },
      "outputs": [],
      "source": [
        "df['last_review'].unique()"
      ]
    },
    {
      "cell_type": "code",
      "execution_count": null,
      "metadata": {
        "id": "9nr3I7nCcWtR"
      },
      "outputs": [],
      "source": [
        "df['review_scores_rating'].unique()"
      ]
    },
    {
      "cell_type": "code",
      "execution_count": null,
      "metadata": {
        "id": "4czNCm7Zc3mY"
      },
      "outputs": [],
      "source": [
        "df['review_scores_accuracy'].unique()"
      ]
    },
    {
      "cell_type": "code",
      "execution_count": null,
      "metadata": {
        "id": "RqZgQZPNdC3n"
      },
      "outputs": [],
      "source": [
        "df['review_scores_cleanliness'].unique()"
      ]
    },
    {
      "cell_type": "code",
      "execution_count": null,
      "metadata": {
        "id": "G8j6Flk2dOOJ"
      },
      "outputs": [],
      "source": [
        "df['review_scores_checkin'].unique()"
      ]
    },
    {
      "cell_type": "code",
      "execution_count": null,
      "metadata": {
        "id": "mfLmIfH1dU6a"
      },
      "outputs": [],
      "source": [
        "df['review_scores_communication'].unique()"
      ]
    },
    {
      "cell_type": "code",
      "execution_count": null,
      "metadata": {
        "id": "aAkbkONndeH1"
      },
      "outputs": [],
      "source": [
        "df['review_scores_location'].unique()"
      ]
    },
    {
      "cell_type": "code",
      "execution_count": null,
      "metadata": {
        "id": "eGSD_yVkdohE"
      },
      "outputs": [],
      "source": [
        "df['review_scores_value'].unique()"
      ]
    },
    {
      "cell_type": "code",
      "execution_count": null,
      "metadata": {
        "id": "cn1oVMELeDH5"
      },
      "outputs": [],
      "source": [
        "df['calculated_host_listings_count'].describe()"
      ]
    },
    {
      "cell_type": "code",
      "execution_count": null,
      "metadata": {
        "id": "m3WWfllgkIKG"
      },
      "outputs": [],
      "source": [
        "df['license'].describe()"
      ]
    },
    {
      "cell_type": "code",
      "execution_count": null,
      "metadata": {
        "id": "wPSSb1_LkSSw"
      },
      "outputs": [],
      "source": [
        "df['instant_bookable'].unique()"
      ]
    },
    {
      "cell_type": "code",
      "execution_count": null,
      "metadata": {
        "id": "dUFS_dsxeJaZ"
      },
      "outputs": [],
      "source": [
        "df['reviews_per_month'].describe()"
      ]
    },
    {
      "cell_type": "code",
      "execution_count": null,
      "metadata": {
        "id": "Sjbmb_1zezTV"
      },
      "outputs": [],
      "source": [
        "#4. Weryfikacja i konwersja typów\n",
        "\n",
        "df['price'] = df['price'].str.replace('[$,]', '', regex=True).astype(np.float64)"
      ]
    },
    {
      "cell_type": "code",
      "execution_count": null,
      "metadata": {
        "id": "FXH2WLvEfqhN"
      },
      "outputs": [],
      "source": [
        "df['price'].describe()"
      ]
    },
    {
      "cell_type": "code",
      "execution_count": null,
      "metadata": {
        "id": "0_3oITYGf1zi"
      },
      "outputs": [],
      "source": [
        "df['host_acceptance_rate'] = df['host_acceptance_rate'].str.replace('%', '').astype(np.float64)/100"
      ]
    },
    {
      "cell_type": "code",
      "execution_count": null,
      "metadata": {
        "id": "XNpssropgdp3"
      },
      "outputs": [],
      "source": [
        "df['host_acceptance_rate'].unique()"
      ]
    },
    {
      "cell_type": "code",
      "execution_count": null,
      "metadata": {
        "id": "VubEMcKejExd"
      },
      "outputs": [],
      "source": [
        "df['host_response_rate'] = df['host_response_rate'].str.replace('%', '').astype(np.float64)/100"
      ]
    },
    {
      "cell_type": "code",
      "execution_count": null,
      "metadata": {
        "id": "aTdmpvSqjZiR"
      },
      "outputs": [],
      "source": [
        "df['host_response_rate'].describe()"
      ]
    },
    {
      "cell_type": "code",
      "execution_count": null,
      "metadata": {
        "id": "r7xIQ6OejjxF"
      },
      "outputs": [],
      "source": [
        "df['host_is_superhost'] = df['host_is_superhost'].map({'t': True, 'f': False})"
      ]
    },
    {
      "cell_type": "code",
      "execution_count": null,
      "metadata": {
        "id": "Jd963fCnkkyn"
      },
      "outputs": [],
      "source": [
        "df['host_has_profile_pic'] = df['host_has_profile_pic'].map({'t': True, 'f': False})"
      ]
    },
    {
      "cell_type": "code",
      "execution_count": null,
      "metadata": {
        "id": "Xp076AfLk-8B"
      },
      "outputs": [],
      "source": [
        "df['has_host_about'] = df['host_about'].notnull()"
      ]
    },
    {
      "cell_type": "code",
      "execution_count": null,
      "metadata": {
        "id": "wL8NEMKlmEur"
      },
      "outputs": [],
      "source": [
        "df['has_host_about'].value_counts()"
      ]
    },
    {
      "cell_type": "code",
      "execution_count": null,
      "metadata": {
        "id": "GDlhapZBm6vf"
      },
      "outputs": [],
      "source": [
        "df['host_identity_verified'] = df['host_identity_verified'].map({'t': True, 'f': False})"
      ]
    },
    {
      "cell_type": "code",
      "execution_count": null,
      "metadata": {
        "id": "8VFZXrOXnBcv"
      },
      "outputs": [],
      "source": [
        "df['host_response_time'].unique()"
      ]
    },
    {
      "cell_type": "code",
      "execution_count": null,
      "metadata": {
        "id": "S513eqhGqIRh"
      },
      "outputs": [],
      "source": [
        "df['bathrooms'] = np.where(\n",
        "    df.bathrooms_text.str.contains('half', case=False, regex=False, na=False),\n",
        "    0.5,\n",
        "    df.bathrooms_text.str.split().str[0]\n",
        ").astype(np.float64)"
      ]
    },
    {
      "cell_type": "code",
      "execution_count": null,
      "metadata": {
        "id": "uI6b1NdVq0ru"
      },
      "outputs": [],
      "source": [
        "df['host_response_time'] = df['host_response_time'].astype('category')"
      ]
    },
    {
      "cell_type": "code",
      "execution_count": null,
      "metadata": {
        "id": "Z_bDm4hwq16m"
      },
      "outputs": [],
      "source": [
        "df['neighbourhood_cleansed'] = df['neighbourhood_cleansed'].astype('category')"
      ]
    },
    {
      "cell_type": "code",
      "execution_count": null,
      "metadata": {
        "id": "_aJd4t5GrB6y"
      },
      "outputs": [],
      "source": [
        "df['neighbourhood_cleansed'].unique()"
      ]
    },
    {
      "cell_type": "code",
      "execution_count": null,
      "metadata": {
        "id": "6qN1Pv9NrKIF"
      },
      "outputs": [],
      "source": [
        "df['source'] = df['source'].astype('category')"
      ]
    },
    {
      "cell_type": "code",
      "execution_count": null,
      "metadata": {
        "id": "DIjDl175rUd5"
      },
      "outputs": [],
      "source": [
        "df['room_type'] = df['room_type'].astype('category')"
      ]
    },
    {
      "cell_type": "code",
      "execution_count": null,
      "metadata": {
        "id": "FK-8Gtpisy-u"
      },
      "outputs": [],
      "source": [
        "import json\n",
        "\n",
        "df['amenities'] = df['amenities'].apply(json.loads)"
      ]
    },
    {
      "cell_type": "code",
      "execution_count": null,
      "metadata": {
        "id": "ID3nQbOGrwqp"
      },
      "outputs": [],
      "source": [
        "df['amenities'].head()"
      ]
    },
    {
      "cell_type": "code",
      "execution_count": null,
      "metadata": {
        "id": "wQHZkra4tVC7"
      },
      "outputs": [],
      "source": [
        "df['has_availability'] = df['has_availability'].map({'t': True, 'f': False})"
      ]
    },
    {
      "cell_type": "code",
      "execution_count": null,
      "metadata": {
        "id": "cbehLeirtmxu"
      },
      "outputs": [],
      "source": [
        "df['host_verifications'] = df['host_verifications'].str[1:-1].replace(\"[' ]\", '', regex=True).str.split(',')"
      ]
    },
    {
      "cell_type": "code",
      "execution_count": null,
      "metadata": {
        "id": "aVK2e1SDNiu1"
      },
      "outputs": [],
      "source": [
        "df['last_review'] = pd.to_datetime(df['last_review'])"
      ]
    },
    {
      "cell_type": "code",
      "execution_count": null,
      "metadata": {
        "id": "SgXGd0mkO22d"
      },
      "outputs": [],
      "source": [
        "df['first_review'] = pd.to_datetime(df['first_review'])"
      ]
    },
    {
      "cell_type": "code",
      "execution_count": null,
      "metadata": {
        "id": "qXb_ZAvKRN4p"
      },
      "outputs": [],
      "source": [
        "df['instant_bookable'] = df['instant_bookable'].map({'t': True, 'f': False})"
      ]
    },
    {
      "cell_type": "code",
      "execution_count": null,
      "metadata": {
        "id": "9oODuZl8Rb5T"
      },
      "outputs": [],
      "source": [
        "df['has_license'] = df['license'].notna()"
      ]
    },
    {
      "cell_type": "code",
      "execution_count": null,
      "metadata": {
        "id": "7LiXY-FrTArb"
      },
      "outputs": [],
      "source": [
        "# drop unused columns\n",
        "df = df.drop(columns=['id', 'listing_url', 'scrape_id', 'last_scraped', 'picture_url', 'host_id', 'host_url', 'host_thumbnail_url', 'host_picture_url', 'calendar_last_scraped', 'license', 'host_about'])"
      ]
    },
    {
      "cell_type": "code",
      "execution_count": null,
      "metadata": {
        "id": "VFeLbb4tTTIV"
      },
      "outputs": [],
      "source": [
        "# Zbudowanie podsumowania zmiennych numerycznych opisujących zbiór, w postaci jednej tabelki, zawierającej podstawowe informacje\n",
        "import numpy as np\n",
        "\n",
        "df.describe(include=[np.number])"
      ]
    },
    {
      "cell_type": "code",
      "execution_count": null,
      "metadata": {
        "id": "bQ3cbX9aUm7E"
      },
      "outputs": [],
      "source": [
        "# Sprawdzenie, czy w zbiorze występują braki danych\n",
        "\n",
        "percent_missing = df.isnull().sum() * 100 / len(df)"
      ]
    },
    {
      "cell_type": "code",
      "execution_count": null,
      "metadata": {
        "id": "zPbmNfcFVNhi"
      },
      "outputs": [],
      "source": [
        "percent_missing['source':'host_location'].plot(kind='bar',ylim=(0,100))"
      ]
    },
    {
      "cell_type": "code",
      "execution_count": null,
      "metadata": {
        "id": "ClXF8PFtW5Xh"
      },
      "outputs": [],
      "source": [
        "percent_missing['host_response_time':'host_identity_verified'].plot(kind='bar',ylim=(0,100))"
      ]
    },
    {
      "cell_type": "code",
      "execution_count": null,
      "metadata": {
        "id": "ujUGrF8vXJEN"
      },
      "outputs": [],
      "source": [
        "percent_missing['neighbourhood':'price'].plot(kind='bar',ylim=(0,100))"
      ]
    },
    {
      "cell_type": "code",
      "execution_count": null,
      "metadata": {
        "id": "16yg5R6CXnDR"
      },
      "outputs": [],
      "source": [
        "percent_missing['minimum_nights':'number_of_reviews_l30d'].plot(kind='bar',ylim=(0,100))"
      ]
    },
    {
      "cell_type": "code",
      "execution_count": null,
      "metadata": {
        "id": "FDCcW9-NX8b5"
      },
      "outputs": [],
      "source": [
        "percent_missing['first_review':'has_license'].plot(kind='bar',ylim=(0,100))"
      ]
    },
    {
      "cell_type": "markdown",
      "metadata": {
        "id": "Jtm8KvL0ZhxS"
      },
      "source": [
        "Jak widać na wykresach kolumny takie jak: neighbourhood_overview, neighbourhood_group_cleansed i inne kolumna z wartością 100% na wykresie nie zawierają żadnych wartości, więc można je już w tym momencie usunąć."
      ]
    },
    {
      "cell_type": "code",
      "execution_count": null,
      "metadata": {
        "id": "xpoetkfRaVqx"
      },
      "outputs": [],
      "source": [
        "df = df.drop(columns=['neighbourhood_group_cleansed','calendar_updated'])"
      ]
    },
    {
      "cell_type": "code",
      "execution_count": null,
      "metadata": {
        "id": "OrUnPqiObBqX"
      },
      "outputs": [],
      "source": [
        "# Wizualizacja rozkładu (wybranych) zmiennych (zarówno numerycznych, jak i kategorycznych) \n",
        "\n",
        "numeric_columns = df.select_dtypes(include=['number']).columns.tolist()\n",
        "\n",
        "for column in numeric_columns:\n",
        "  print(\"Column: \", column, \": kurtosis: \", df[column].kurt())"
      ]
    },
    {
      "cell_type": "code",
      "execution_count": null,
      "metadata": {
        "id": "7KHdt9kZeRNj"
      },
      "outputs": [],
      "source": [
        "df.columns"
      ]
    },
    {
      "cell_type": "code",
      "source": [
        "import matplotlib.pyplot as plt\n",
        "\n",
        "# Stworzenie histogramu dla wszyskich kolumn liczbowych oraz wartości kategorycznych, które nie mają za dużo wartości unikalnych\n",
        "columns = [\n",
        "    'source', 'host_response_time', 'host_response_rate', \n",
        "    'host_acceptance_rate', 'host_listings_count', 'host_total_listings_count', \n",
        "    'host_is_superhost', 'host_has_profile_pic', 'host_identity_verified',\n",
        "    'latitude', 'longitude', 'room_type', 'accommodates', 'bathrooms', 'bedrooms',\n",
        "    'beds', 'price', 'minimum_nights', 'maximum_nights', 'minimum_minimum_nights',\n",
        "    'maximum_minimum_nights', 'minimum_maximum_nights', 'maximum_maximum_nights',\n",
        "    'minimum_nights_avg_ntm', 'maximum_nights_avg_ntm', 'has_availability',\n",
        "    'availability_30', 'availability_60', 'availability_90', 'availability_365',\n",
        "    'number_of_reviews', 'number_of_reviews_ltm', 'number_of_reviews_l30d', 'review_scores_rating',\n",
        "    'review_scores_accuracy', 'review_scores_cleanliness', 'review_scores_checkin',\n",
        "    'review_scores_communication', 'review_scores_location', 'review_scores_value',\n",
        "    'instant_bookable', 'calculated_host_listings_count', 'calculated_host_listings_count_entire_homes',\n",
        "    'calculated_host_listings_count_private_rooms', 'calculated_host_listings_count_shared_rooms',\n",
        "    'reviews_per_month', 'has_host_about', 'has_license'\n",
        "]\n",
        "\n",
        "# liczba kolumn\n",
        "col_count = len(columns)\n",
        "\n",
        "# tworzenie figure z podwykresami\n",
        "fig, ax = plt.subplots(ncols=1, nrows=len(columns), figsize=(20,200))\n",
        "\n",
        "for i, col in enumerate(columns):\n",
        "    if df[col].dtype == \"bool\":\n",
        "      df[col].map({True: \"True\", False: \"False\"}).hist(ax=ax[i])\n",
        "    else:\n",
        "      df[col].hist(ax=ax[i])\n",
        "    ax[i].set_title(col)\n",
        "\n"
      ],
      "metadata": {
        "id": "g8lcaI1Vw_Lm"
      },
      "execution_count": null,
      "outputs": []
    },
    {
      "cell_type": "code",
      "source": [
        "#Poniższy kod daje dokładną informację, dla których kolumn średnia bardzo dobrze odzwierciedla wartości\n",
        "\n",
        "def classify_kurtosis(kurtosis: float, mean: float) -> str:\n",
        "    if kurtosis < mean:\n",
        "        return 'średnia bardzo dobrze odzwierciedla wartości'\n",
        "    elif kurtosis == mean:\n",
        "        return 'średnia dobrze odzwierciedla wartości'\n",
        "    else:\n",
        "        return 'średnia słabo odzwierciedla wartości'\n",
        "\n",
        "kurtosis = {}\n",
        "\n",
        "for column in df.select_dtypes(include=['number']).columns.tolist():\n",
        "  result = classify_kurtosis(df[column].kurt(),df[column].mean())\n",
        "  kurtosis[column] = result\n",
        "  print(\"Column: \", column, \" Kurtosis: \", classify_kurtosis(df[column].kurt(),df[column].mean()) )"
      ],
      "metadata": {
        "id": "9BN-NrnvxCVC"
      },
      "execution_count": null,
      "outputs": []
    },
    {
      "cell_type": "code",
      "source": [
        "#Czyszczenie danych, przypomnijmy wartości procentowe braków w kolumnach\n",
        "\n",
        "percent_missing"
      ],
      "metadata": {
        "id": "cu--0t3b6Cwe"
      },
      "execution_count": null,
      "outputs": []
    },
    {
      "cell_type": "code",
      "source": [
        "#Kod usuwa wszystkie kolumny, które mają więcej niż 40% brakujących wartości\n",
        "\n",
        "for column in df.columns:\n",
        "  if percent_missing[column] > 40:\n",
        "    df.drop(columns=[column])"
      ],
      "metadata": {
        "id": "dNTKDfbY6X2t"
      },
      "execution_count": null,
      "outputs": []
    },
    {
      "cell_type": "code",
      "source": [
        "for column in columns:\n",
        "  if kurtosis.get(column) == \"średnia bardzo dobrze odzwierciedla wartości\":\n",
        "    df[column].fillna(df[column].mean())\n"
      ],
      "metadata": {
        "id": "XMZvVWQs7c35"
      },
      "execution_count": null,
      "outputs": []
    },
    {
      "cell_type": "code",
      "source": [
        "df.dtypes"
      ],
      "metadata": {
        "id": "lZCIEP-J8gaR"
      },
      "execution_count": null,
      "outputs": []
    },
    {
      "cell_type": "code",
      "source": [],
      "metadata": {
        "id": "Boi8u3ZOQe03"
      },
      "execution_count": null,
      "outputs": []
    },
    {
      "cell_type": "code",
      "source": [
        "import matplotlib.pyplot as plt\n",
        "\n",
        "plt.plot(df['host_response_rate'], df['host_response_rate'], 'o', color='red')"
      ],
      "metadata": {
        "id": "gzX_EortFY-M"
      },
      "execution_count": null,
      "outputs": []
    },
    {
      "cell_type": "code",
      "source": [
        "plt.plot(df['host_acceptance_rate'], df['host_acceptance_rate'], 'o', color='red')"
      ],
      "metadata": {
        "id": "jMoLnaAvNKdV"
      },
      "execution_count": null,
      "outputs": []
    },
    {
      "cell_type": "code",
      "source": [
        "plt.plot(df['host_listings_count'], df['host_listings_count'], 'o', color='red')"
      ],
      "metadata": {
        "id": "sBVuD1swNgRg"
      },
      "execution_count": null,
      "outputs": []
    },
    {
      "cell_type": "code",
      "source": [
        "plt.plot(df['host_total_listings_count'], df['host_total_listings_count'], 'o', color='red')"
      ],
      "metadata": {
        "id": "f1uxObYlNx10"
      },
      "execution_count": null,
      "outputs": []
    },
    {
      "cell_type": "code",
      "source": [
        "plt.plot(df['latitude'], df['latitude'], 'o', color='red')"
      ],
      "metadata": {
        "id": "-CCodfsjQVRo"
      },
      "execution_count": null,
      "outputs": []
    },
    {
      "cell_type": "code",
      "source": [
        "plt.plot(df['longitude'], df['longitude'], 'o', color='red')"
      ],
      "metadata": {
        "id": "OCIHxbTtQhje"
      },
      "execution_count": null,
      "outputs": []
    },
    {
      "cell_type": "code",
      "source": [
        "plt.plot(df['accommodates'], df['accommodates'], 'o', color='red')"
      ],
      "metadata": {
        "id": "RuXsljMRQqZR"
      },
      "execution_count": null,
      "outputs": []
    },
    {
      "cell_type": "code",
      "source": [
        "def remove_outliners_with_min_max_method(df, column, threshold=0.1, max_percentage_value_loss=0.05):\n",
        "  len_before = len(df)\n",
        "\n",
        "  min_val = df[column].min()\n",
        "  max_val = df[column].max()\n",
        "\n",
        "  min_bound = min_val - threshold * (max_val - min_val)\n",
        "  max_bound = max_val + threshold * (max_val - min_val)\n",
        "\n",
        "  df_clone = df[(df[column] > min_bound) & (df[column] < max_bound)]\n",
        "\n",
        "  len_after = len(df_clone)\n",
        "\n",
        "  percentage_value_loss = (len_before-len_after)/len_before\n",
        "\n",
        "  if percentage_value_loss > max_percentage_value_loss:\n",
        "    print(\"Too big value loss. Removing outliners aborted for column {}. Value loss: {}\".format(column, percentage_value_loss))\n",
        "    return df\n",
        "  print(\"Percentage value loss: {}\".format(percentage_value_loss))\n",
        "  return df_clone\n",
        "\n",
        "\n",
        "df.dtypes"
      ],
      "metadata": {
        "id": "p1ChRueIRyB6"
      },
      "execution_count": null,
      "outputs": []
    },
    {
      "cell_type": "code",
      "source": [
        "int_cols = df.select_dtypes(include=['int64']).columns\n",
        "float_cols = df.select_dtypes(include=['float64']).columns"
      ],
      "metadata": {
        "id": "uwD5HEN2S_dh"
      },
      "execution_count": null,
      "outputs": []
    },
    {
      "cell_type": "code",
      "source": [
        "# W wypadku wartości int nie było zadnych wartości odstających\n",
        "\n",
        "for col in int_cols:\n",
        "  df = remove_outliners_with_min_max_method(df, col)"
      ],
      "metadata": {
        "id": "gIK2F-hyTY6S"
      },
      "execution_count": null,
      "outputs": []
    },
    {
      "cell_type": "code",
      "source": [
        "for col in float_cols:\n",
        "  df = remove_outliners_with_min_max_method(df,col, 0.1, 0.1)"
      ],
      "metadata": {
        "id": "Ov2we2BTUX6_"
      },
      "execution_count": null,
      "outputs": []
    },
    {
      "cell_type": "code",
      "source": [
        "#Check rows count after outliners elimiation\n",
        "len(df)"
      ],
      "metadata": {
        "id": "FDXPyrfQYbVt"
      },
      "execution_count": null,
      "outputs": []
    },
    {
      "cell_type": "code",
      "source": [
        "def normalize_column_with_z_score(df, column):\n",
        "  return (df[column] - df[column].mean()) / df[column].std()\n",
        "\n",
        "for column in int_cols:\n",
        "  df[column] = normalize_column_with_z_score(df, column)\n",
        "\n",
        "for column in float_cols:\n",
        "  df[column] = normalize_column_with_z_score(df, column)"
      ],
      "metadata": {
        "id": "-vOt7PV0aVPA"
      },
      "execution_count": 394,
      "outputs": []
    },
    {
      "cell_type": "code",
      "source": [
        "# Analiza powiazan pomiedzy atrybutami\n",
        "\n",
        "df_corr = df.corr(method='spearman')\n",
        "\n",
        "data = df_corr.abs().where(df_corr > 0.6).stack().reset_index()\n",
        "\n",
        "data.sort_values(by=0)"
      ],
      "metadata": {
        "colab": {
          "base_uri": "https://localhost:8080/",
          "height": 1000
        },
        "id": "4onIQEonc0j5",
        "outputId": "7162d5d5-44e9-423c-d695-0be59f34d802"
      },
      "execution_count": 418,
      "outputs": [
        {
          "output_type": "execute_result",
          "data": {
            "text/plain": [
              "                                          level_0  \\\n",
              "107                              instant_bookable   \n",
              "2                            host_acceptance_rate   \n",
              "119                             reviews_per_month   \n",
              "72                              number_of_reviews   \n",
              "91                         review_scores_accuracy   \n",
              "105                           review_scores_value   \n",
              "95                          review_scores_checkin   \n",
              "83                           review_scores_rating   \n",
              "96                          review_scores_checkin   \n",
              "89                         review_scores_accuracy   \n",
              "100                   review_scores_communication   \n",
              "90                         review_scores_accuracy   \n",
              "84                           review_scores_rating   \n",
              "99                    review_scores_communication   \n",
              "11                      host_total_listings_count   \n",
              "114   calculated_host_listings_count_entire_homes   \n",
              "93                      review_scores_cleanliness   \n",
              "88                         review_scores_accuracy   \n",
              "79                         number_of_reviews_l30d   \n",
              "121                             reviews_per_month   \n",
              "67                               availability_365   \n",
              "62                                availability_60   \n",
              "28                                 maximum_nights   \n",
              "39                         minimum_maximum_nights   \n",
              "17                                   accommodates   \n",
              "20                                           beds   \n",
              "73                          number_of_reviews_ltm   \n",
              "71                              number_of_reviews   \n",
              "82                           review_scores_rating   \n",
              "92                      review_scores_cleanliness   \n",
              "30                                 maximum_nights   \n",
              "51                         maximum_nights_avg_ntm   \n",
              "68                               availability_365   \n",
              "66                                availability_90   \n",
              "29                                 maximum_nights   \n",
              "43                         maximum_maximum_nights   \n",
              "85                           review_scores_rating   \n",
              "104                           review_scores_value   \n",
              "7                             host_listings_count   \n",
              "113   calculated_host_listings_count_entire_homes   \n",
              "75                          number_of_reviews_ltm   \n",
              "77                         number_of_reviews_l30d   \n",
              "86                         review_scores_accuracy   \n",
              "81                           review_scores_rating   \n",
              "98                          review_scores_checkin   \n",
              "101                   review_scores_communication   \n",
              "115   calculated_host_listings_count_entire_homes   \n",
              "112                calculated_host_listings_count   \n",
              "76                          number_of_reviews_ltm   \n",
              "120                             reviews_per_month   \n",
              "33                         minimum_minimum_nights   \n",
              "36                         maximum_minimum_nights   \n",
              "25                                 minimum_nights   \n",
              "35                         maximum_minimum_nights   \n",
              "10                      host_total_listings_count   \n",
              "110                calculated_host_listings_count   \n",
              "58                                availability_30   \n",
              "63                                availability_90   \n",
              "8                       host_total_listings_count   \n",
              "5                             host_listings_count   \n",
              "38                         maximum_minimum_nights   \n",
              "49                         minimum_nights_avg_ntm   \n",
              "48                         minimum_nights_avg_ntm   \n",
              "34                         minimum_minimum_nights   \n",
              "47                         minimum_nights_avg_ntm   \n",
              "26                                 minimum_nights   \n",
              "109                calculated_host_listings_count   \n",
              "6                             host_listings_count   \n",
              "31                         minimum_minimum_nights   \n",
              "24                                 minimum_nights   \n",
              "57                                availability_30   \n",
              "59                                availability_60   \n",
              "41                         minimum_maximum_nights   \n",
              "44                         maximum_maximum_nights   \n",
              "52                         maximum_nights_avg_ntm   \n",
              "42                         minimum_maximum_nights   \n",
              "61                                availability_60   \n",
              "64                                availability_90   \n",
              "53                         maximum_nights_avg_ntm   \n",
              "46                         maximum_maximum_nights   \n",
              "103                        review_scores_location   \n",
              "108                              instant_bookable   \n",
              "118   calculated_host_listings_count_shared_rooms   \n",
              "117  calculated_host_listings_count_private_rooms   \n",
              "116   calculated_host_listings_count_entire_homes   \n",
              "102                   review_scores_communication   \n",
              "97                          review_scores_checkin   \n",
              "106                           review_scores_value   \n",
              "111                calculated_host_listings_count   \n",
              "122                             reviews_per_month   \n",
              "94                      review_scores_cleanliness   \n",
              "0                              host_response_rate   \n",
              "80                           review_scores_rating   \n",
              "1                            host_acceptance_rate   \n",
              "3                               host_is_superhost   \n",
              "4                             host_listings_count   \n",
              "9                       host_total_listings_count   \n",
              "12                           host_has_profile_pic   \n",
              "13                         host_identity_verified   \n",
              "14                                       latitude   \n",
              "15                                      longitude   \n",
              "16                                   accommodates   \n",
              "18                                      bathrooms   \n",
              "19                                       bedrooms   \n",
              "21                                           beds   \n",
              "22                                          price   \n",
              "23                                 minimum_nights   \n",
              "87                         review_scores_accuracy   \n",
              "27                                 maximum_nights   \n",
              "37                         maximum_minimum_nights   \n",
              "40                         minimum_maximum_nights   \n",
              "45                         maximum_maximum_nights   \n",
              "50                         minimum_nights_avg_ntm   \n",
              "54                         maximum_nights_avg_ntm   \n",
              "55                               has_availability   \n",
              "56                                availability_30   \n",
              "60                                availability_60   \n",
              "123                                has_host_about   \n",
              "65                                availability_90   \n",
              "69                               availability_365   \n",
              "70                              number_of_reviews   \n",
              "74                          number_of_reviews_ltm   \n",
              "78                         number_of_reviews_l30d   \n",
              "32                         minimum_minimum_nights   \n",
              "124                                   has_license   \n",
              "\n",
              "                                          level_1         0  \n",
              "107                          host_acceptance_rate  0.602878  \n",
              "2                                instant_bookable  0.602878  \n",
              "119                             number_of_reviews  0.626256  \n",
              "72                              reviews_per_month  0.626256  \n",
              "91                            review_scores_value  0.631737  \n",
              "105                        review_scores_accuracy  0.631737  \n",
              "95                           review_scores_rating  0.637929  \n",
              "83                          review_scores_checkin  0.637929  \n",
              "96                         review_scores_accuracy  0.650669  \n",
              "89                          review_scores_checkin  0.650669  \n",
              "100                        review_scores_accuracy  0.652194  \n",
              "90                    review_scores_communication  0.652194  \n",
              "84                    review_scores_communication  0.655127  \n",
              "99                           review_scores_rating  0.655127  \n",
              "11    calculated_host_listings_count_entire_homes  0.661527  \n",
              "114                     host_total_listings_count  0.661527  \n",
              "93                         review_scores_accuracy  0.665245  \n",
              "88                      review_scores_cleanliness  0.665245  \n",
              "79                              reviews_per_month  0.668476  \n",
              "121                        number_of_reviews_l30d  0.668476  \n",
              "67                                availability_60  0.669907  \n",
              "62                               availability_365  0.669907  \n",
              "28                         minimum_maximum_nights  0.670781  \n",
              "39                                 maximum_nights  0.670781  \n",
              "17                                           beds  0.688611  \n",
              "20                                   accommodates  0.688611  \n",
              "73                              number_of_reviews  0.692496  \n",
              "71                          number_of_reviews_ltm  0.692496  \n",
              "82                      review_scores_cleanliness  0.694800  \n",
              "92                           review_scores_rating  0.694800  \n",
              "30                         maximum_nights_avg_ntm  0.700320  \n",
              "51                                 maximum_nights  0.700320  \n",
              "68                                availability_90  0.700383  \n",
              "66                               availability_365  0.700383  \n",
              "29                         maximum_maximum_nights  0.702310  \n",
              "43                                 maximum_nights  0.702310  \n",
              "85                            review_scores_value  0.704938  \n",
              "104                          review_scores_rating  0.704938  \n",
              "7     calculated_host_listings_count_entire_homes  0.710495  \n",
              "113                           host_listings_count  0.710495  \n",
              "75                         number_of_reviews_l30d  0.721354  \n",
              "77                          number_of_reviews_ltm  0.721354  \n",
              "86                           review_scores_rating  0.732107  \n",
              "81                         review_scores_accuracy  0.732107  \n",
              "98                    review_scores_communication  0.734771  \n",
              "101                         review_scores_checkin  0.734771  \n",
              "115                calculated_host_listings_count  0.743213  \n",
              "112   calculated_host_listings_count_entire_homes  0.743213  \n",
              "76                              reviews_per_month  0.770152  \n",
              "120                         number_of_reviews_ltm  0.770152  \n",
              "33                         maximum_minimum_nights  0.794075  \n",
              "36                         minimum_minimum_nights  0.794075  \n",
              "25                         maximum_minimum_nights  0.807137  \n",
              "35                                 minimum_nights  0.807137  \n",
              "10                 calculated_host_listings_count  0.856644  \n",
              "110                     host_total_listings_count  0.856644  \n",
              "58                                availability_90  0.901816  \n",
              "63                                availability_30  0.901816  \n",
              "8                             host_listings_count  0.918604  \n",
              "5                       host_total_listings_count  0.918604  \n",
              "38                         minimum_nights_avg_ntm  0.923757  \n",
              "49                         maximum_minimum_nights  0.923757  \n",
              "48                         minimum_minimum_nights  0.923992  \n",
              "34                         minimum_nights_avg_ntm  0.923992  \n",
              "47                                 minimum_nights  0.925393  \n",
              "26                         minimum_nights_avg_ntm  0.925393  \n",
              "109                           host_listings_count  0.928534  \n",
              "6                  calculated_host_listings_count  0.928534  \n",
              "31                                 minimum_nights  0.933119  \n",
              "24                         minimum_minimum_nights  0.933119  \n",
              "57                                availability_60  0.936480  \n",
              "59                                availability_30  0.936480  \n",
              "41                         maximum_maximum_nights  0.936789  \n",
              "44                         minimum_maximum_nights  0.936789  \n",
              "52                         minimum_maximum_nights  0.974207  \n",
              "42                         maximum_nights_avg_ntm  0.974207  \n",
              "61                                availability_90  0.981307  \n",
              "64                                availability_60  0.981307  \n",
              "53                         maximum_maximum_nights  0.987097  \n",
              "46                         maximum_nights_avg_ntm  0.987097  \n",
              "103                        review_scores_location  1.000000  \n",
              "108                              instant_bookable  1.000000  \n",
              "118   calculated_host_listings_count_shared_rooms  1.000000  \n",
              "117  calculated_host_listings_count_private_rooms  1.000000  \n",
              "116   calculated_host_listings_count_entire_homes  1.000000  \n",
              "102                   review_scores_communication  1.000000  \n",
              "97                          review_scores_checkin  1.000000  \n",
              "106                           review_scores_value  1.000000  \n",
              "111                calculated_host_listings_count  1.000000  \n",
              "122                             reviews_per_month  1.000000  \n",
              "94                      review_scores_cleanliness  1.000000  \n",
              "0                              host_response_rate  1.000000  \n",
              "80                           review_scores_rating  1.000000  \n",
              "1                            host_acceptance_rate  1.000000  \n",
              "3                               host_is_superhost  1.000000  \n",
              "4                             host_listings_count  1.000000  \n",
              "9                       host_total_listings_count  1.000000  \n",
              "12                           host_has_profile_pic  1.000000  \n",
              "13                         host_identity_verified  1.000000  \n",
              "14                                       latitude  1.000000  \n",
              "15                                      longitude  1.000000  \n",
              "16                                   accommodates  1.000000  \n",
              "18                                      bathrooms  1.000000  \n",
              "19                                       bedrooms  1.000000  \n",
              "21                                           beds  1.000000  \n",
              "22                                          price  1.000000  \n",
              "23                                 minimum_nights  1.000000  \n",
              "87                         review_scores_accuracy  1.000000  \n",
              "27                                 maximum_nights  1.000000  \n",
              "37                         maximum_minimum_nights  1.000000  \n",
              "40                         minimum_maximum_nights  1.000000  \n",
              "45                         maximum_maximum_nights  1.000000  \n",
              "50                         minimum_nights_avg_ntm  1.000000  \n",
              "54                         maximum_nights_avg_ntm  1.000000  \n",
              "55                               has_availability  1.000000  \n",
              "56                                availability_30  1.000000  \n",
              "60                                availability_60  1.000000  \n",
              "123                                has_host_about  1.000000  \n",
              "65                                availability_90  1.000000  \n",
              "69                               availability_365  1.000000  \n",
              "70                              number_of_reviews  1.000000  \n",
              "74                          number_of_reviews_ltm  1.000000  \n",
              "78                         number_of_reviews_l30d  1.000000  \n",
              "32                         minimum_minimum_nights  1.000000  \n",
              "124                                   has_license  1.000000  "
            ],
            "text/html": [
              "\n",
              "  <div id=\"df-36138fea-cd60-47e2-b7c0-e41e898fee67\">\n",
              "    <div class=\"colab-df-container\">\n",
              "      <div>\n",
              "<style scoped>\n",
              "    .dataframe tbody tr th:only-of-type {\n",
              "        vertical-align: middle;\n",
              "    }\n",
              "\n",
              "    .dataframe tbody tr th {\n",
              "        vertical-align: top;\n",
              "    }\n",
              "\n",
              "    .dataframe thead th {\n",
              "        text-align: right;\n",
              "    }\n",
              "</style>\n",
              "<table border=\"1\" class=\"dataframe\">\n",
              "  <thead>\n",
              "    <tr style=\"text-align: right;\">\n",
              "      <th></th>\n",
              "      <th>level_0</th>\n",
              "      <th>level_1</th>\n",
              "      <th>0</th>\n",
              "    </tr>\n",
              "  </thead>\n",
              "  <tbody>\n",
              "    <tr>\n",
              "      <th>107</th>\n",
              "      <td>instant_bookable</td>\n",
              "      <td>host_acceptance_rate</td>\n",
              "      <td>0.602878</td>\n",
              "    </tr>\n",
              "    <tr>\n",
              "      <th>2</th>\n",
              "      <td>host_acceptance_rate</td>\n",
              "      <td>instant_bookable</td>\n",
              "      <td>0.602878</td>\n",
              "    </tr>\n",
              "    <tr>\n",
              "      <th>119</th>\n",
              "      <td>reviews_per_month</td>\n",
              "      <td>number_of_reviews</td>\n",
              "      <td>0.626256</td>\n",
              "    </tr>\n",
              "    <tr>\n",
              "      <th>72</th>\n",
              "      <td>number_of_reviews</td>\n",
              "      <td>reviews_per_month</td>\n",
              "      <td>0.626256</td>\n",
              "    </tr>\n",
              "    <tr>\n",
              "      <th>91</th>\n",
              "      <td>review_scores_accuracy</td>\n",
              "      <td>review_scores_value</td>\n",
              "      <td>0.631737</td>\n",
              "    </tr>\n",
              "    <tr>\n",
              "      <th>105</th>\n",
              "      <td>review_scores_value</td>\n",
              "      <td>review_scores_accuracy</td>\n",
              "      <td>0.631737</td>\n",
              "    </tr>\n",
              "    <tr>\n",
              "      <th>95</th>\n",
              "      <td>review_scores_checkin</td>\n",
              "      <td>review_scores_rating</td>\n",
              "      <td>0.637929</td>\n",
              "    </tr>\n",
              "    <tr>\n",
              "      <th>83</th>\n",
              "      <td>review_scores_rating</td>\n",
              "      <td>review_scores_checkin</td>\n",
              "      <td>0.637929</td>\n",
              "    </tr>\n",
              "    <tr>\n",
              "      <th>96</th>\n",
              "      <td>review_scores_checkin</td>\n",
              "      <td>review_scores_accuracy</td>\n",
              "      <td>0.650669</td>\n",
              "    </tr>\n",
              "    <tr>\n",
              "      <th>89</th>\n",
              "      <td>review_scores_accuracy</td>\n",
              "      <td>review_scores_checkin</td>\n",
              "      <td>0.650669</td>\n",
              "    </tr>\n",
              "    <tr>\n",
              "      <th>100</th>\n",
              "      <td>review_scores_communication</td>\n",
              "      <td>review_scores_accuracy</td>\n",
              "      <td>0.652194</td>\n",
              "    </tr>\n",
              "    <tr>\n",
              "      <th>90</th>\n",
              "      <td>review_scores_accuracy</td>\n",
              "      <td>review_scores_communication</td>\n",
              "      <td>0.652194</td>\n",
              "    </tr>\n",
              "    <tr>\n",
              "      <th>84</th>\n",
              "      <td>review_scores_rating</td>\n",
              "      <td>review_scores_communication</td>\n",
              "      <td>0.655127</td>\n",
              "    </tr>\n",
              "    <tr>\n",
              "      <th>99</th>\n",
              "      <td>review_scores_communication</td>\n",
              "      <td>review_scores_rating</td>\n",
              "      <td>0.655127</td>\n",
              "    </tr>\n",
              "    <tr>\n",
              "      <th>11</th>\n",
              "      <td>host_total_listings_count</td>\n",
              "      <td>calculated_host_listings_count_entire_homes</td>\n",
              "      <td>0.661527</td>\n",
              "    </tr>\n",
              "    <tr>\n",
              "      <th>114</th>\n",
              "      <td>calculated_host_listings_count_entire_homes</td>\n",
              "      <td>host_total_listings_count</td>\n",
              "      <td>0.661527</td>\n",
              "    </tr>\n",
              "    <tr>\n",
              "      <th>93</th>\n",
              "      <td>review_scores_cleanliness</td>\n",
              "      <td>review_scores_accuracy</td>\n",
              "      <td>0.665245</td>\n",
              "    </tr>\n",
              "    <tr>\n",
              "      <th>88</th>\n",
              "      <td>review_scores_accuracy</td>\n",
              "      <td>review_scores_cleanliness</td>\n",
              "      <td>0.665245</td>\n",
              "    </tr>\n",
              "    <tr>\n",
              "      <th>79</th>\n",
              "      <td>number_of_reviews_l30d</td>\n",
              "      <td>reviews_per_month</td>\n",
              "      <td>0.668476</td>\n",
              "    </tr>\n",
              "    <tr>\n",
              "      <th>121</th>\n",
              "      <td>reviews_per_month</td>\n",
              "      <td>number_of_reviews_l30d</td>\n",
              "      <td>0.668476</td>\n",
              "    </tr>\n",
              "    <tr>\n",
              "      <th>67</th>\n",
              "      <td>availability_365</td>\n",
              "      <td>availability_60</td>\n",
              "      <td>0.669907</td>\n",
              "    </tr>\n",
              "    <tr>\n",
              "      <th>62</th>\n",
              "      <td>availability_60</td>\n",
              "      <td>availability_365</td>\n",
              "      <td>0.669907</td>\n",
              "    </tr>\n",
              "    <tr>\n",
              "      <th>28</th>\n",
              "      <td>maximum_nights</td>\n",
              "      <td>minimum_maximum_nights</td>\n",
              "      <td>0.670781</td>\n",
              "    </tr>\n",
              "    <tr>\n",
              "      <th>39</th>\n",
              "      <td>minimum_maximum_nights</td>\n",
              "      <td>maximum_nights</td>\n",
              "      <td>0.670781</td>\n",
              "    </tr>\n",
              "    <tr>\n",
              "      <th>17</th>\n",
              "      <td>accommodates</td>\n",
              "      <td>beds</td>\n",
              "      <td>0.688611</td>\n",
              "    </tr>\n",
              "    <tr>\n",
              "      <th>20</th>\n",
              "      <td>beds</td>\n",
              "      <td>accommodates</td>\n",
              "      <td>0.688611</td>\n",
              "    </tr>\n",
              "    <tr>\n",
              "      <th>73</th>\n",
              "      <td>number_of_reviews_ltm</td>\n",
              "      <td>number_of_reviews</td>\n",
              "      <td>0.692496</td>\n",
              "    </tr>\n",
              "    <tr>\n",
              "      <th>71</th>\n",
              "      <td>number_of_reviews</td>\n",
              "      <td>number_of_reviews_ltm</td>\n",
              "      <td>0.692496</td>\n",
              "    </tr>\n",
              "    <tr>\n",
              "      <th>82</th>\n",
              "      <td>review_scores_rating</td>\n",
              "      <td>review_scores_cleanliness</td>\n",
              "      <td>0.694800</td>\n",
              "    </tr>\n",
              "    <tr>\n",
              "      <th>92</th>\n",
              "      <td>review_scores_cleanliness</td>\n",
              "      <td>review_scores_rating</td>\n",
              "      <td>0.694800</td>\n",
              "    </tr>\n",
              "    <tr>\n",
              "      <th>30</th>\n",
              "      <td>maximum_nights</td>\n",
              "      <td>maximum_nights_avg_ntm</td>\n",
              "      <td>0.700320</td>\n",
              "    </tr>\n",
              "    <tr>\n",
              "      <th>51</th>\n",
              "      <td>maximum_nights_avg_ntm</td>\n",
              "      <td>maximum_nights</td>\n",
              "      <td>0.700320</td>\n",
              "    </tr>\n",
              "    <tr>\n",
              "      <th>68</th>\n",
              "      <td>availability_365</td>\n",
              "      <td>availability_90</td>\n",
              "      <td>0.700383</td>\n",
              "    </tr>\n",
              "    <tr>\n",
              "      <th>66</th>\n",
              "      <td>availability_90</td>\n",
              "      <td>availability_365</td>\n",
              "      <td>0.700383</td>\n",
              "    </tr>\n",
              "    <tr>\n",
              "      <th>29</th>\n",
              "      <td>maximum_nights</td>\n",
              "      <td>maximum_maximum_nights</td>\n",
              "      <td>0.702310</td>\n",
              "    </tr>\n",
              "    <tr>\n",
              "      <th>43</th>\n",
              "      <td>maximum_maximum_nights</td>\n",
              "      <td>maximum_nights</td>\n",
              "      <td>0.702310</td>\n",
              "    </tr>\n",
              "    <tr>\n",
              "      <th>85</th>\n",
              "      <td>review_scores_rating</td>\n",
              "      <td>review_scores_value</td>\n",
              "      <td>0.704938</td>\n",
              "    </tr>\n",
              "    <tr>\n",
              "      <th>104</th>\n",
              "      <td>review_scores_value</td>\n",
              "      <td>review_scores_rating</td>\n",
              "      <td>0.704938</td>\n",
              "    </tr>\n",
              "    <tr>\n",
              "      <th>7</th>\n",
              "      <td>host_listings_count</td>\n",
              "      <td>calculated_host_listings_count_entire_homes</td>\n",
              "      <td>0.710495</td>\n",
              "    </tr>\n",
              "    <tr>\n",
              "      <th>113</th>\n",
              "      <td>calculated_host_listings_count_entire_homes</td>\n",
              "      <td>host_listings_count</td>\n",
              "      <td>0.710495</td>\n",
              "    </tr>\n",
              "    <tr>\n",
              "      <th>75</th>\n",
              "      <td>number_of_reviews_ltm</td>\n",
              "      <td>number_of_reviews_l30d</td>\n",
              "      <td>0.721354</td>\n",
              "    </tr>\n",
              "    <tr>\n",
              "      <th>77</th>\n",
              "      <td>number_of_reviews_l30d</td>\n",
              "      <td>number_of_reviews_ltm</td>\n",
              "      <td>0.721354</td>\n",
              "    </tr>\n",
              "    <tr>\n",
              "      <th>86</th>\n",
              "      <td>review_scores_accuracy</td>\n",
              "      <td>review_scores_rating</td>\n",
              "      <td>0.732107</td>\n",
              "    </tr>\n",
              "    <tr>\n",
              "      <th>81</th>\n",
              "      <td>review_scores_rating</td>\n",
              "      <td>review_scores_accuracy</td>\n",
              "      <td>0.732107</td>\n",
              "    </tr>\n",
              "    <tr>\n",
              "      <th>98</th>\n",
              "      <td>review_scores_checkin</td>\n",
              "      <td>review_scores_communication</td>\n",
              "      <td>0.734771</td>\n",
              "    </tr>\n",
              "    <tr>\n",
              "      <th>101</th>\n",
              "      <td>review_scores_communication</td>\n",
              "      <td>review_scores_checkin</td>\n",
              "      <td>0.734771</td>\n",
              "    </tr>\n",
              "    <tr>\n",
              "      <th>115</th>\n",
              "      <td>calculated_host_listings_count_entire_homes</td>\n",
              "      <td>calculated_host_listings_count</td>\n",
              "      <td>0.743213</td>\n",
              "    </tr>\n",
              "    <tr>\n",
              "      <th>112</th>\n",
              "      <td>calculated_host_listings_count</td>\n",
              "      <td>calculated_host_listings_count_entire_homes</td>\n",
              "      <td>0.743213</td>\n",
              "    </tr>\n",
              "    <tr>\n",
              "      <th>76</th>\n",
              "      <td>number_of_reviews_ltm</td>\n",
              "      <td>reviews_per_month</td>\n",
              "      <td>0.770152</td>\n",
              "    </tr>\n",
              "    <tr>\n",
              "      <th>120</th>\n",
              "      <td>reviews_per_month</td>\n",
              "      <td>number_of_reviews_ltm</td>\n",
              "      <td>0.770152</td>\n",
              "    </tr>\n",
              "    <tr>\n",
              "      <th>33</th>\n",
              "      <td>minimum_minimum_nights</td>\n",
              "      <td>maximum_minimum_nights</td>\n",
              "      <td>0.794075</td>\n",
              "    </tr>\n",
              "    <tr>\n",
              "      <th>36</th>\n",
              "      <td>maximum_minimum_nights</td>\n",
              "      <td>minimum_minimum_nights</td>\n",
              "      <td>0.794075</td>\n",
              "    </tr>\n",
              "    <tr>\n",
              "      <th>25</th>\n",
              "      <td>minimum_nights</td>\n",
              "      <td>maximum_minimum_nights</td>\n",
              "      <td>0.807137</td>\n",
              "    </tr>\n",
              "    <tr>\n",
              "      <th>35</th>\n",
              "      <td>maximum_minimum_nights</td>\n",
              "      <td>minimum_nights</td>\n",
              "      <td>0.807137</td>\n",
              "    </tr>\n",
              "    <tr>\n",
              "      <th>10</th>\n",
              "      <td>host_total_listings_count</td>\n",
              "      <td>calculated_host_listings_count</td>\n",
              "      <td>0.856644</td>\n",
              "    </tr>\n",
              "    <tr>\n",
              "      <th>110</th>\n",
              "      <td>calculated_host_listings_count</td>\n",
              "      <td>host_total_listings_count</td>\n",
              "      <td>0.856644</td>\n",
              "    </tr>\n",
              "    <tr>\n",
              "      <th>58</th>\n",
              "      <td>availability_30</td>\n",
              "      <td>availability_90</td>\n",
              "      <td>0.901816</td>\n",
              "    </tr>\n",
              "    <tr>\n",
              "      <th>63</th>\n",
              "      <td>availability_90</td>\n",
              "      <td>availability_30</td>\n",
              "      <td>0.901816</td>\n",
              "    </tr>\n",
              "    <tr>\n",
              "      <th>8</th>\n",
              "      <td>host_total_listings_count</td>\n",
              "      <td>host_listings_count</td>\n",
              "      <td>0.918604</td>\n",
              "    </tr>\n",
              "    <tr>\n",
              "      <th>5</th>\n",
              "      <td>host_listings_count</td>\n",
              "      <td>host_total_listings_count</td>\n",
              "      <td>0.918604</td>\n",
              "    </tr>\n",
              "    <tr>\n",
              "      <th>38</th>\n",
              "      <td>maximum_minimum_nights</td>\n",
              "      <td>minimum_nights_avg_ntm</td>\n",
              "      <td>0.923757</td>\n",
              "    </tr>\n",
              "    <tr>\n",
              "      <th>49</th>\n",
              "      <td>minimum_nights_avg_ntm</td>\n",
              "      <td>maximum_minimum_nights</td>\n",
              "      <td>0.923757</td>\n",
              "    </tr>\n",
              "    <tr>\n",
              "      <th>48</th>\n",
              "      <td>minimum_nights_avg_ntm</td>\n",
              "      <td>minimum_minimum_nights</td>\n",
              "      <td>0.923992</td>\n",
              "    </tr>\n",
              "    <tr>\n",
              "      <th>34</th>\n",
              "      <td>minimum_minimum_nights</td>\n",
              "      <td>minimum_nights_avg_ntm</td>\n",
              "      <td>0.923992</td>\n",
              "    </tr>\n",
              "    <tr>\n",
              "      <th>47</th>\n",
              "      <td>minimum_nights_avg_ntm</td>\n",
              "      <td>minimum_nights</td>\n",
              "      <td>0.925393</td>\n",
              "    </tr>\n",
              "    <tr>\n",
              "      <th>26</th>\n",
              "      <td>minimum_nights</td>\n",
              "      <td>minimum_nights_avg_ntm</td>\n",
              "      <td>0.925393</td>\n",
              "    </tr>\n",
              "    <tr>\n",
              "      <th>109</th>\n",
              "      <td>calculated_host_listings_count</td>\n",
              "      <td>host_listings_count</td>\n",
              "      <td>0.928534</td>\n",
              "    </tr>\n",
              "    <tr>\n",
              "      <th>6</th>\n",
              "      <td>host_listings_count</td>\n",
              "      <td>calculated_host_listings_count</td>\n",
              "      <td>0.928534</td>\n",
              "    </tr>\n",
              "    <tr>\n",
              "      <th>31</th>\n",
              "      <td>minimum_minimum_nights</td>\n",
              "      <td>minimum_nights</td>\n",
              "      <td>0.933119</td>\n",
              "    </tr>\n",
              "    <tr>\n",
              "      <th>24</th>\n",
              "      <td>minimum_nights</td>\n",
              "      <td>minimum_minimum_nights</td>\n",
              "      <td>0.933119</td>\n",
              "    </tr>\n",
              "    <tr>\n",
              "      <th>57</th>\n",
              "      <td>availability_30</td>\n",
              "      <td>availability_60</td>\n",
              "      <td>0.936480</td>\n",
              "    </tr>\n",
              "    <tr>\n",
              "      <th>59</th>\n",
              "      <td>availability_60</td>\n",
              "      <td>availability_30</td>\n",
              "      <td>0.936480</td>\n",
              "    </tr>\n",
              "    <tr>\n",
              "      <th>41</th>\n",
              "      <td>minimum_maximum_nights</td>\n",
              "      <td>maximum_maximum_nights</td>\n",
              "      <td>0.936789</td>\n",
              "    </tr>\n",
              "    <tr>\n",
              "      <th>44</th>\n",
              "      <td>maximum_maximum_nights</td>\n",
              "      <td>minimum_maximum_nights</td>\n",
              "      <td>0.936789</td>\n",
              "    </tr>\n",
              "    <tr>\n",
              "      <th>52</th>\n",
              "      <td>maximum_nights_avg_ntm</td>\n",
              "      <td>minimum_maximum_nights</td>\n",
              "      <td>0.974207</td>\n",
              "    </tr>\n",
              "    <tr>\n",
              "      <th>42</th>\n",
              "      <td>minimum_maximum_nights</td>\n",
              "      <td>maximum_nights_avg_ntm</td>\n",
              "      <td>0.974207</td>\n",
              "    </tr>\n",
              "    <tr>\n",
              "      <th>61</th>\n",
              "      <td>availability_60</td>\n",
              "      <td>availability_90</td>\n",
              "      <td>0.981307</td>\n",
              "    </tr>\n",
              "    <tr>\n",
              "      <th>64</th>\n",
              "      <td>availability_90</td>\n",
              "      <td>availability_60</td>\n",
              "      <td>0.981307</td>\n",
              "    </tr>\n",
              "    <tr>\n",
              "      <th>53</th>\n",
              "      <td>maximum_nights_avg_ntm</td>\n",
              "      <td>maximum_maximum_nights</td>\n",
              "      <td>0.987097</td>\n",
              "    </tr>\n",
              "    <tr>\n",
              "      <th>46</th>\n",
              "      <td>maximum_maximum_nights</td>\n",
              "      <td>maximum_nights_avg_ntm</td>\n",
              "      <td>0.987097</td>\n",
              "    </tr>\n",
              "    <tr>\n",
              "      <th>103</th>\n",
              "      <td>review_scores_location</td>\n",
              "      <td>review_scores_location</td>\n",
              "      <td>1.000000</td>\n",
              "    </tr>\n",
              "    <tr>\n",
              "      <th>108</th>\n",
              "      <td>instant_bookable</td>\n",
              "      <td>instant_bookable</td>\n",
              "      <td>1.000000</td>\n",
              "    </tr>\n",
              "    <tr>\n",
              "      <th>118</th>\n",
              "      <td>calculated_host_listings_count_shared_rooms</td>\n",
              "      <td>calculated_host_listings_count_shared_rooms</td>\n",
              "      <td>1.000000</td>\n",
              "    </tr>\n",
              "    <tr>\n",
              "      <th>117</th>\n",
              "      <td>calculated_host_listings_count_private_rooms</td>\n",
              "      <td>calculated_host_listings_count_private_rooms</td>\n",
              "      <td>1.000000</td>\n",
              "    </tr>\n",
              "    <tr>\n",
              "      <th>116</th>\n",
              "      <td>calculated_host_listings_count_entire_homes</td>\n",
              "      <td>calculated_host_listings_count_entire_homes</td>\n",
              "      <td>1.000000</td>\n",
              "    </tr>\n",
              "    <tr>\n",
              "      <th>102</th>\n",
              "      <td>review_scores_communication</td>\n",
              "      <td>review_scores_communication</td>\n",
              "      <td>1.000000</td>\n",
              "    </tr>\n",
              "    <tr>\n",
              "      <th>97</th>\n",
              "      <td>review_scores_checkin</td>\n",
              "      <td>review_scores_checkin</td>\n",
              "      <td>1.000000</td>\n",
              "    </tr>\n",
              "    <tr>\n",
              "      <th>106</th>\n",
              "      <td>review_scores_value</td>\n",
              "      <td>review_scores_value</td>\n",
              "      <td>1.000000</td>\n",
              "    </tr>\n",
              "    <tr>\n",
              "      <th>111</th>\n",
              "      <td>calculated_host_listings_count</td>\n",
              "      <td>calculated_host_listings_count</td>\n",
              "      <td>1.000000</td>\n",
              "    </tr>\n",
              "    <tr>\n",
              "      <th>122</th>\n",
              "      <td>reviews_per_month</td>\n",
              "      <td>reviews_per_month</td>\n",
              "      <td>1.000000</td>\n",
              "    </tr>\n",
              "    <tr>\n",
              "      <th>94</th>\n",
              "      <td>review_scores_cleanliness</td>\n",
              "      <td>review_scores_cleanliness</td>\n",
              "      <td>1.000000</td>\n",
              "    </tr>\n",
              "    <tr>\n",
              "      <th>0</th>\n",
              "      <td>host_response_rate</td>\n",
              "      <td>host_response_rate</td>\n",
              "      <td>1.000000</td>\n",
              "    </tr>\n",
              "    <tr>\n",
              "      <th>80</th>\n",
              "      <td>review_scores_rating</td>\n",
              "      <td>review_scores_rating</td>\n",
              "      <td>1.000000</td>\n",
              "    </tr>\n",
              "    <tr>\n",
              "      <th>1</th>\n",
              "      <td>host_acceptance_rate</td>\n",
              "      <td>host_acceptance_rate</td>\n",
              "      <td>1.000000</td>\n",
              "    </tr>\n",
              "    <tr>\n",
              "      <th>3</th>\n",
              "      <td>host_is_superhost</td>\n",
              "      <td>host_is_superhost</td>\n",
              "      <td>1.000000</td>\n",
              "    </tr>\n",
              "    <tr>\n",
              "      <th>4</th>\n",
              "      <td>host_listings_count</td>\n",
              "      <td>host_listings_count</td>\n",
              "      <td>1.000000</td>\n",
              "    </tr>\n",
              "    <tr>\n",
              "      <th>9</th>\n",
              "      <td>host_total_listings_count</td>\n",
              "      <td>host_total_listings_count</td>\n",
              "      <td>1.000000</td>\n",
              "    </tr>\n",
              "    <tr>\n",
              "      <th>12</th>\n",
              "      <td>host_has_profile_pic</td>\n",
              "      <td>host_has_profile_pic</td>\n",
              "      <td>1.000000</td>\n",
              "    </tr>\n",
              "    <tr>\n",
              "      <th>13</th>\n",
              "      <td>host_identity_verified</td>\n",
              "      <td>host_identity_verified</td>\n",
              "      <td>1.000000</td>\n",
              "    </tr>\n",
              "    <tr>\n",
              "      <th>14</th>\n",
              "      <td>latitude</td>\n",
              "      <td>latitude</td>\n",
              "      <td>1.000000</td>\n",
              "    </tr>\n",
              "    <tr>\n",
              "      <th>15</th>\n",
              "      <td>longitude</td>\n",
              "      <td>longitude</td>\n",
              "      <td>1.000000</td>\n",
              "    </tr>\n",
              "    <tr>\n",
              "      <th>16</th>\n",
              "      <td>accommodates</td>\n",
              "      <td>accommodates</td>\n",
              "      <td>1.000000</td>\n",
              "    </tr>\n",
              "    <tr>\n",
              "      <th>18</th>\n",
              "      <td>bathrooms</td>\n",
              "      <td>bathrooms</td>\n",
              "      <td>1.000000</td>\n",
              "    </tr>\n",
              "    <tr>\n",
              "      <th>19</th>\n",
              "      <td>bedrooms</td>\n",
              "      <td>bedrooms</td>\n",
              "      <td>1.000000</td>\n",
              "    </tr>\n",
              "    <tr>\n",
              "      <th>21</th>\n",
              "      <td>beds</td>\n",
              "      <td>beds</td>\n",
              "      <td>1.000000</td>\n",
              "    </tr>\n",
              "    <tr>\n",
              "      <th>22</th>\n",
              "      <td>price</td>\n",
              "      <td>price</td>\n",
              "      <td>1.000000</td>\n",
              "    </tr>\n",
              "    <tr>\n",
              "      <th>23</th>\n",
              "      <td>minimum_nights</td>\n",
              "      <td>minimum_nights</td>\n",
              "      <td>1.000000</td>\n",
              "    </tr>\n",
              "    <tr>\n",
              "      <th>87</th>\n",
              "      <td>review_scores_accuracy</td>\n",
              "      <td>review_scores_accuracy</td>\n",
              "      <td>1.000000</td>\n",
              "    </tr>\n",
              "    <tr>\n",
              "      <th>27</th>\n",
              "      <td>maximum_nights</td>\n",
              "      <td>maximum_nights</td>\n",
              "      <td>1.000000</td>\n",
              "    </tr>\n",
              "    <tr>\n",
              "      <th>37</th>\n",
              "      <td>maximum_minimum_nights</td>\n",
              "      <td>maximum_minimum_nights</td>\n",
              "      <td>1.000000</td>\n",
              "    </tr>\n",
              "    <tr>\n",
              "      <th>40</th>\n",
              "      <td>minimum_maximum_nights</td>\n",
              "      <td>minimum_maximum_nights</td>\n",
              "      <td>1.000000</td>\n",
              "    </tr>\n",
              "    <tr>\n",
              "      <th>45</th>\n",
              "      <td>maximum_maximum_nights</td>\n",
              "      <td>maximum_maximum_nights</td>\n",
              "      <td>1.000000</td>\n",
              "    </tr>\n",
              "    <tr>\n",
              "      <th>50</th>\n",
              "      <td>minimum_nights_avg_ntm</td>\n",
              "      <td>minimum_nights_avg_ntm</td>\n",
              "      <td>1.000000</td>\n",
              "    </tr>\n",
              "    <tr>\n",
              "      <th>54</th>\n",
              "      <td>maximum_nights_avg_ntm</td>\n",
              "      <td>maximum_nights_avg_ntm</td>\n",
              "      <td>1.000000</td>\n",
              "    </tr>\n",
              "    <tr>\n",
              "      <th>55</th>\n",
              "      <td>has_availability</td>\n",
              "      <td>has_availability</td>\n",
              "      <td>1.000000</td>\n",
              "    </tr>\n",
              "    <tr>\n",
              "      <th>56</th>\n",
              "      <td>availability_30</td>\n",
              "      <td>availability_30</td>\n",
              "      <td>1.000000</td>\n",
              "    </tr>\n",
              "    <tr>\n",
              "      <th>60</th>\n",
              "      <td>availability_60</td>\n",
              "      <td>availability_60</td>\n",
              "      <td>1.000000</td>\n",
              "    </tr>\n",
              "    <tr>\n",
              "      <th>123</th>\n",
              "      <td>has_host_about</td>\n",
              "      <td>has_host_about</td>\n",
              "      <td>1.000000</td>\n",
              "    </tr>\n",
              "    <tr>\n",
              "      <th>65</th>\n",
              "      <td>availability_90</td>\n",
              "      <td>availability_90</td>\n",
              "      <td>1.000000</td>\n",
              "    </tr>\n",
              "    <tr>\n",
              "      <th>69</th>\n",
              "      <td>availability_365</td>\n",
              "      <td>availability_365</td>\n",
              "      <td>1.000000</td>\n",
              "    </tr>\n",
              "    <tr>\n",
              "      <th>70</th>\n",
              "      <td>number_of_reviews</td>\n",
              "      <td>number_of_reviews</td>\n",
              "      <td>1.000000</td>\n",
              "    </tr>\n",
              "    <tr>\n",
              "      <th>74</th>\n",
              "      <td>number_of_reviews_ltm</td>\n",
              "      <td>number_of_reviews_ltm</td>\n",
              "      <td>1.000000</td>\n",
              "    </tr>\n",
              "    <tr>\n",
              "      <th>78</th>\n",
              "      <td>number_of_reviews_l30d</td>\n",
              "      <td>number_of_reviews_l30d</td>\n",
              "      <td>1.000000</td>\n",
              "    </tr>\n",
              "    <tr>\n",
              "      <th>32</th>\n",
              "      <td>minimum_minimum_nights</td>\n",
              "      <td>minimum_minimum_nights</td>\n",
              "      <td>1.000000</td>\n",
              "    </tr>\n",
              "    <tr>\n",
              "      <th>124</th>\n",
              "      <td>has_license</td>\n",
              "      <td>has_license</td>\n",
              "      <td>1.000000</td>\n",
              "    </tr>\n",
              "  </tbody>\n",
              "</table>\n",
              "</div>\n",
              "      <button class=\"colab-df-convert\" onclick=\"convertToInteractive('df-36138fea-cd60-47e2-b7c0-e41e898fee67')\"\n",
              "              title=\"Convert this dataframe to an interactive table.\"\n",
              "              style=\"display:none;\">\n",
              "        \n",
              "  <svg xmlns=\"http://www.w3.org/2000/svg\" height=\"24px\"viewBox=\"0 0 24 24\"\n",
              "       width=\"24px\">\n",
              "    <path d=\"M0 0h24v24H0V0z\" fill=\"none\"/>\n",
              "    <path d=\"M18.56 5.44l.94 2.06.94-2.06 2.06-.94-2.06-.94-.94-2.06-.94 2.06-2.06.94zm-11 1L8.5 8.5l.94-2.06 2.06-.94-2.06-.94L8.5 2.5l-.94 2.06-2.06.94zm10 10l.94 2.06.94-2.06 2.06-.94-2.06-.94-.94-2.06-.94 2.06-2.06.94z\"/><path d=\"M17.41 7.96l-1.37-1.37c-.4-.4-.92-.59-1.43-.59-.52 0-1.04.2-1.43.59L10.3 9.45l-7.72 7.72c-.78.78-.78 2.05 0 2.83L4 21.41c.39.39.9.59 1.41.59.51 0 1.02-.2 1.41-.59l7.78-7.78 2.81-2.81c.8-.78.8-2.07 0-2.86zM5.41 20L4 18.59l7.72-7.72 1.47 1.35L5.41 20z\"/>\n",
              "  </svg>\n",
              "      </button>\n",
              "      \n",
              "  <style>\n",
              "    .colab-df-container {\n",
              "      display:flex;\n",
              "      flex-wrap:wrap;\n",
              "      gap: 12px;\n",
              "    }\n",
              "\n",
              "    .colab-df-convert {\n",
              "      background-color: #E8F0FE;\n",
              "      border: none;\n",
              "      border-radius: 50%;\n",
              "      cursor: pointer;\n",
              "      display: none;\n",
              "      fill: #1967D2;\n",
              "      height: 32px;\n",
              "      padding: 0 0 0 0;\n",
              "      width: 32px;\n",
              "    }\n",
              "\n",
              "    .colab-df-convert:hover {\n",
              "      background-color: #E2EBFA;\n",
              "      box-shadow: 0px 1px 2px rgba(60, 64, 67, 0.3), 0px 1px 3px 1px rgba(60, 64, 67, 0.15);\n",
              "      fill: #174EA6;\n",
              "    }\n",
              "\n",
              "    [theme=dark] .colab-df-convert {\n",
              "      background-color: #3B4455;\n",
              "      fill: #D2E3FC;\n",
              "    }\n",
              "\n",
              "    [theme=dark] .colab-df-convert:hover {\n",
              "      background-color: #434B5C;\n",
              "      box-shadow: 0px 1px 3px 1px rgba(0, 0, 0, 0.15);\n",
              "      filter: drop-shadow(0px 1px 2px rgba(0, 0, 0, 0.3));\n",
              "      fill: #FFFFFF;\n",
              "    }\n",
              "  </style>\n",
              "\n",
              "      <script>\n",
              "        const buttonEl =\n",
              "          document.querySelector('#df-36138fea-cd60-47e2-b7c0-e41e898fee67 button.colab-df-convert');\n",
              "        buttonEl.style.display =\n",
              "          google.colab.kernel.accessAllowed ? 'block' : 'none';\n",
              "\n",
              "        async function convertToInteractive(key) {\n",
              "          const element = document.querySelector('#df-36138fea-cd60-47e2-b7c0-e41e898fee67');\n",
              "          const dataTable =\n",
              "            await google.colab.kernel.invokeFunction('convertToInteractive',\n",
              "                                                     [key], {});\n",
              "          if (!dataTable) return;\n",
              "\n",
              "          const docLinkHtml = 'Like what you see? Visit the ' +\n",
              "            '<a target=\"_blank\" href=https://colab.research.google.com/notebooks/data_table.ipynb>data table notebook</a>'\n",
              "            + ' to learn more about interactive tables.';\n",
              "          element.innerHTML = '';\n",
              "          dataTable['output_type'] = 'display_data';\n",
              "          await google.colab.output.renderOutput(dataTable, element);\n",
              "          const docLink = document.createElement('div');\n",
              "          docLink.innerHTML = docLinkHtml;\n",
              "          element.appendChild(docLink);\n",
              "        }\n",
              "      </script>\n",
              "    </div>\n",
              "  </div>\n",
              "  "
            ]
          },
          "metadata": {},
          "execution_count": 418
        }
      ]
    },
    {
      "cell_type": "markdown",
      "source": [
        "Analiza powiązań pokazuje, że najbardziej powiązane są kolumny z podobnymi wartościami jak np. availability_60 jest skorelowane z availability_30 na poziomie 93%, więc wartości z największymi powiązaniami nie wydają się tutaj ciekawe. Z ciekawszych powiązań: atrybut instant_bookable(True,False) jest powiązany z atrybutem host_acceptance_rate na poziomie 60%, lecz jest to i tak dosyć słaba korelacja."
      ],
      "metadata": {
        "id": "W_RDhGJGf_u7"
      }
    },
    {
      "cell_type": "code",
      "source": [
        "import seaborn as sns\n",
        "\n",
        "sns.pairplot(df_corr, diag_kind=None)"
      ],
      "metadata": {
        "colab": {
          "base_uri": "https://localhost:8080/",
          "height": 348
        },
        "id": "4sD6sOLui0aj",
        "outputId": "5684b59f-95bc-4de1-dc5c-e7b3dfbccb6e"
      },
      "execution_count": null,
      "outputs": [
        {
          "output_type": "error",
          "ename": "KeyboardInterrupt",
          "evalue": "ignored",
          "traceback": [
            "\u001b[0;31m---------------------------------------------------------------------------\u001b[0m",
            "\u001b[0;31mKeyboardInterrupt\u001b[0m                         Traceback (most recent call last)",
            "\u001b[0;32m<ipython-input-437-2caa49642cc7>\u001b[0m in \u001b[0;36m<module>\u001b[0;34m\u001b[0m\n\u001b[1;32m      1\u001b[0m \u001b[0;32mimport\u001b[0m \u001b[0mseaborn\u001b[0m \u001b[0;32mas\u001b[0m \u001b[0msns\u001b[0m\u001b[0;34m\u001b[0m\u001b[0;34m\u001b[0m\u001b[0m\n\u001b[1;32m      2\u001b[0m \u001b[0;34m\u001b[0m\u001b[0m\n\u001b[0;32m----> 3\u001b[0;31m \u001b[0msns\u001b[0m\u001b[0;34m.\u001b[0m\u001b[0mpairplot\u001b[0m\u001b[0;34m(\u001b[0m\u001b[0mdf_corr\u001b[0m\u001b[0;34m,\u001b[0m \u001b[0mdiag_kind\u001b[0m\u001b[0;34m=\u001b[0m\u001b[0;32mNone\u001b[0m\u001b[0;34m)\u001b[0m\u001b[0;34m\u001b[0m\u001b[0;34m\u001b[0m\u001b[0m\n\u001b[0m",
            "\u001b[0;32m/usr/local/lib/python3.8/dist-packages/seaborn/_decorators.py\u001b[0m in \u001b[0;36minner_f\u001b[0;34m(*args, **kwargs)\u001b[0m\n\u001b[1;32m     44\u001b[0m             )\n\u001b[1;32m     45\u001b[0m         \u001b[0mkwargs\u001b[0m\u001b[0;34m.\u001b[0m\u001b[0mupdate\u001b[0m\u001b[0;34m(\u001b[0m\u001b[0;34m{\u001b[0m\u001b[0mk\u001b[0m\u001b[0;34m:\u001b[0m \u001b[0marg\u001b[0m \u001b[0;32mfor\u001b[0m \u001b[0mk\u001b[0m\u001b[0;34m,\u001b[0m \u001b[0marg\u001b[0m \u001b[0;32min\u001b[0m \u001b[0mzip\u001b[0m\u001b[0;34m(\u001b[0m\u001b[0msig\u001b[0m\u001b[0;34m.\u001b[0m\u001b[0mparameters\u001b[0m\u001b[0;34m,\u001b[0m \u001b[0margs\u001b[0m\u001b[0;34m)\u001b[0m\u001b[0;34m}\u001b[0m\u001b[0;34m)\u001b[0m\u001b[0;34m\u001b[0m\u001b[0;34m\u001b[0m\u001b[0m\n\u001b[0;32m---> 46\u001b[0;31m         \u001b[0;32mreturn\u001b[0m \u001b[0mf\u001b[0m\u001b[0;34m(\u001b[0m\u001b[0;34m**\u001b[0m\u001b[0mkwargs\u001b[0m\u001b[0;34m)\u001b[0m\u001b[0;34m\u001b[0m\u001b[0;34m\u001b[0m\u001b[0m\n\u001b[0m\u001b[1;32m     47\u001b[0m     \u001b[0;32mreturn\u001b[0m \u001b[0minner_f\u001b[0m\u001b[0;34m\u001b[0m\u001b[0;34m\u001b[0m\u001b[0m\n\u001b[1;32m     48\u001b[0m \u001b[0;34m\u001b[0m\u001b[0m\n",
            "\u001b[0;32m/usr/local/lib/python3.8/dist-packages/seaborn/axisgrid.py\u001b[0m in \u001b[0;36mpairplot\u001b[0;34m(data, hue, hue_order, palette, vars, x_vars, y_vars, kind, diag_kind, markers, height, aspect, corner, dropna, plot_kws, diag_kws, grid_kws, size)\u001b[0m\n\u001b[1;32m   2094\u001b[0m     \u001b[0;31m# Set up the PairGrid\u001b[0m\u001b[0;34m\u001b[0m\u001b[0;34m\u001b[0m\u001b[0;34m\u001b[0m\u001b[0m\n\u001b[1;32m   2095\u001b[0m     \u001b[0mgrid_kws\u001b[0m\u001b[0;34m.\u001b[0m\u001b[0msetdefault\u001b[0m\u001b[0;34m(\u001b[0m\u001b[0;34m\"diag_sharey\"\u001b[0m\u001b[0;34m,\u001b[0m \u001b[0mdiag_kind\u001b[0m \u001b[0;34m==\u001b[0m \u001b[0;34m\"hist\"\u001b[0m\u001b[0;34m)\u001b[0m\u001b[0;34m\u001b[0m\u001b[0;34m\u001b[0m\u001b[0m\n\u001b[0;32m-> 2096\u001b[0;31m     grid = PairGrid(data, vars=vars, x_vars=x_vars, y_vars=y_vars, hue=hue,\n\u001b[0m\u001b[1;32m   2097\u001b[0m                     \u001b[0mhue_order\u001b[0m\u001b[0;34m=\u001b[0m\u001b[0mhue_order\u001b[0m\u001b[0;34m,\u001b[0m \u001b[0mpalette\u001b[0m\u001b[0;34m=\u001b[0m\u001b[0mpalette\u001b[0m\u001b[0;34m,\u001b[0m \u001b[0mcorner\u001b[0m\u001b[0;34m=\u001b[0m\u001b[0mcorner\u001b[0m\u001b[0;34m,\u001b[0m\u001b[0;34m\u001b[0m\u001b[0;34m\u001b[0m\u001b[0m\n\u001b[1;32m   2098\u001b[0m                     height=height, aspect=aspect, dropna=dropna, **grid_kws)\n",
            "\u001b[0;32m/usr/local/lib/python3.8/dist-packages/seaborn/_decorators.py\u001b[0m in \u001b[0;36minner_f\u001b[0;34m(*args, **kwargs)\u001b[0m\n\u001b[1;32m     44\u001b[0m             )\n\u001b[1;32m     45\u001b[0m         \u001b[0mkwargs\u001b[0m\u001b[0;34m.\u001b[0m\u001b[0mupdate\u001b[0m\u001b[0;34m(\u001b[0m\u001b[0;34m{\u001b[0m\u001b[0mk\u001b[0m\u001b[0;34m:\u001b[0m \u001b[0marg\u001b[0m \u001b[0;32mfor\u001b[0m \u001b[0mk\u001b[0m\u001b[0;34m,\u001b[0m \u001b[0marg\u001b[0m \u001b[0;32min\u001b[0m \u001b[0mzip\u001b[0m\u001b[0;34m(\u001b[0m\u001b[0msig\u001b[0m\u001b[0;34m.\u001b[0m\u001b[0mparameters\u001b[0m\u001b[0;34m,\u001b[0m \u001b[0margs\u001b[0m\u001b[0;34m)\u001b[0m\u001b[0;34m}\u001b[0m\u001b[0;34m)\u001b[0m\u001b[0;34m\u001b[0m\u001b[0;34m\u001b[0m\u001b[0m\n\u001b[0;32m---> 46\u001b[0;31m         \u001b[0;32mreturn\u001b[0m \u001b[0mf\u001b[0m\u001b[0;34m(\u001b[0m\u001b[0;34m**\u001b[0m\u001b[0mkwargs\u001b[0m\u001b[0;34m)\u001b[0m\u001b[0;34m\u001b[0m\u001b[0;34m\u001b[0m\u001b[0m\n\u001b[0m\u001b[1;32m     47\u001b[0m     \u001b[0;32mreturn\u001b[0m \u001b[0minner_f\u001b[0m\u001b[0;34m\u001b[0m\u001b[0;34m\u001b[0m\u001b[0m\n\u001b[1;32m     48\u001b[0m \u001b[0;34m\u001b[0m\u001b[0m\n",
            "\u001b[0;32m/usr/local/lib/python3.8/dist-packages/seaborn/axisgrid.py\u001b[0m in \u001b[0;36m__init__\u001b[0;34m(self, data, hue, hue_order, palette, hue_kws, vars, x_vars, y_vars, corner, diag_sharey, height, aspect, layout_pad, despine, dropna, size)\u001b[0m\n\u001b[1;32m   1242\u001b[0m             \u001b[0mfig\u001b[0m \u001b[0;34m=\u001b[0m \u001b[0mplt\u001b[0m\u001b[0;34m.\u001b[0m\u001b[0mfigure\u001b[0m\u001b[0;34m(\u001b[0m\u001b[0mfigsize\u001b[0m\u001b[0;34m=\u001b[0m\u001b[0mfigsize\u001b[0m\u001b[0;34m)\u001b[0m\u001b[0;34m\u001b[0m\u001b[0;34m\u001b[0m\u001b[0m\n\u001b[1;32m   1243\u001b[0m \u001b[0;34m\u001b[0m\u001b[0m\n\u001b[0;32m-> 1244\u001b[0;31m         axes = fig.subplots(len(y_vars), len(x_vars),\n\u001b[0m\u001b[1;32m   1245\u001b[0m                             \u001b[0msharex\u001b[0m\u001b[0;34m=\u001b[0m\u001b[0;34m\"col\"\u001b[0m\u001b[0;34m,\u001b[0m \u001b[0msharey\u001b[0m\u001b[0;34m=\u001b[0m\u001b[0;34m\"row\"\u001b[0m\u001b[0;34m,\u001b[0m\u001b[0;34m\u001b[0m\u001b[0;34m\u001b[0m\u001b[0m\n\u001b[1;32m   1246\u001b[0m                             squeeze=False)\n",
            "\u001b[0;32m/usr/local/lib/python3.8/dist-packages/matplotlib/figure.py\u001b[0m in \u001b[0;36msubplots\u001b[0;34m(self, nrows, ncols, sharex, sharey, squeeze, subplot_kw, gridspec_kw)\u001b[0m\n\u001b[1;32m   1574\u001b[0m                 \u001b[0msubplot_kw\u001b[0m\u001b[0;34m[\u001b[0m\u001b[0;34m\"sharex\"\u001b[0m\u001b[0;34m]\u001b[0m \u001b[0;34m=\u001b[0m \u001b[0mshared_with\u001b[0m\u001b[0;34m[\u001b[0m\u001b[0msharex\u001b[0m\u001b[0;34m]\u001b[0m\u001b[0;34m\u001b[0m\u001b[0;34m\u001b[0m\u001b[0m\n\u001b[1;32m   1575\u001b[0m                 \u001b[0msubplot_kw\u001b[0m\u001b[0;34m[\u001b[0m\u001b[0;34m\"sharey\"\u001b[0m\u001b[0;34m]\u001b[0m \u001b[0;34m=\u001b[0m \u001b[0mshared_with\u001b[0m\u001b[0;34m[\u001b[0m\u001b[0msharey\u001b[0m\u001b[0;34m]\u001b[0m\u001b[0;34m\u001b[0m\u001b[0;34m\u001b[0m\u001b[0m\n\u001b[0;32m-> 1576\u001b[0;31m                 \u001b[0maxarr\u001b[0m\u001b[0;34m[\u001b[0m\u001b[0mrow\u001b[0m\u001b[0;34m,\u001b[0m \u001b[0mcol\u001b[0m\u001b[0;34m]\u001b[0m \u001b[0;34m=\u001b[0m \u001b[0mself\u001b[0m\u001b[0;34m.\u001b[0m\u001b[0madd_subplot\u001b[0m\u001b[0;34m(\u001b[0m\u001b[0mgs\u001b[0m\u001b[0;34m[\u001b[0m\u001b[0mrow\u001b[0m\u001b[0;34m,\u001b[0m \u001b[0mcol\u001b[0m\u001b[0;34m]\u001b[0m\u001b[0;34m,\u001b[0m \u001b[0;34m**\u001b[0m\u001b[0msubplot_kw\u001b[0m\u001b[0;34m)\u001b[0m\u001b[0;34m\u001b[0m\u001b[0;34m\u001b[0m\u001b[0m\n\u001b[0m\u001b[1;32m   1577\u001b[0m \u001b[0;34m\u001b[0m\u001b[0m\n\u001b[1;32m   1578\u001b[0m         \u001b[0;31m# turn off redundant tick labeling\u001b[0m\u001b[0;34m\u001b[0m\u001b[0;34m\u001b[0m\u001b[0;34m\u001b[0m\u001b[0m\n",
            "\u001b[0;32m/usr/local/lib/python3.8/dist-packages/matplotlib/figure.py\u001b[0m in \u001b[0;36madd_subplot\u001b[0;34m(self, *args, **kwargs)\u001b[0m\n\u001b[1;32m   1417\u001b[0m                     \u001b[0mself\u001b[0m\u001b[0;34m.\u001b[0m\u001b[0m_axstack\u001b[0m\u001b[0;34m.\u001b[0m\u001b[0mremove\u001b[0m\u001b[0;34m(\u001b[0m\u001b[0max\u001b[0m\u001b[0;34m)\u001b[0m\u001b[0;34m\u001b[0m\u001b[0;34m\u001b[0m\u001b[0m\n\u001b[1;32m   1418\u001b[0m \u001b[0;34m\u001b[0m\u001b[0m\n\u001b[0;32m-> 1419\u001b[0;31m             \u001b[0ma\u001b[0m \u001b[0;34m=\u001b[0m \u001b[0msubplot_class_factory\u001b[0m\u001b[0;34m(\u001b[0m\u001b[0mprojection_class\u001b[0m\u001b[0;34m)\u001b[0m\u001b[0;34m(\u001b[0m\u001b[0mself\u001b[0m\u001b[0;34m,\u001b[0m \u001b[0;34m*\u001b[0m\u001b[0margs\u001b[0m\u001b[0;34m,\u001b[0m \u001b[0;34m**\u001b[0m\u001b[0mkwargs\u001b[0m\u001b[0;34m)\u001b[0m\u001b[0;34m\u001b[0m\u001b[0;34m\u001b[0m\u001b[0m\n\u001b[0m\u001b[1;32m   1420\u001b[0m \u001b[0;34m\u001b[0m\u001b[0m\n\u001b[1;32m   1421\u001b[0m         \u001b[0;32mreturn\u001b[0m \u001b[0mself\u001b[0m\u001b[0;34m.\u001b[0m\u001b[0m_add_axes_internal\u001b[0m\u001b[0;34m(\u001b[0m\u001b[0mkey\u001b[0m\u001b[0;34m,\u001b[0m \u001b[0ma\u001b[0m\u001b[0;34m)\u001b[0m\u001b[0;34m\u001b[0m\u001b[0;34m\u001b[0m\u001b[0m\n",
            "\u001b[0;32m/usr/local/lib/python3.8/dist-packages/matplotlib/axes/_subplots.py\u001b[0m in \u001b[0;36m__init__\u001b[0;34m(self, fig, *args, **kwargs)\u001b[0m\n\u001b[1;32m     74\u001b[0m \u001b[0;34m\u001b[0m\u001b[0m\n\u001b[1;32m     75\u001b[0m         \u001b[0;31m# _axes_class is set in the subplot_class_factory\u001b[0m\u001b[0;34m\u001b[0m\u001b[0;34m\u001b[0m\u001b[0;34m\u001b[0m\u001b[0m\n\u001b[0;32m---> 76\u001b[0;31m         \u001b[0mself\u001b[0m\u001b[0;34m.\u001b[0m\u001b[0m_axes_class\u001b[0m\u001b[0;34m.\u001b[0m\u001b[0m__init__\u001b[0m\u001b[0;34m(\u001b[0m\u001b[0mself\u001b[0m\u001b[0;34m,\u001b[0m \u001b[0mfig\u001b[0m\u001b[0;34m,\u001b[0m \u001b[0mself\u001b[0m\u001b[0;34m.\u001b[0m\u001b[0mfigbox\u001b[0m\u001b[0;34m,\u001b[0m \u001b[0;34m**\u001b[0m\u001b[0mkwargs\u001b[0m\u001b[0;34m)\u001b[0m\u001b[0;34m\u001b[0m\u001b[0;34m\u001b[0m\u001b[0m\n\u001b[0m\u001b[1;32m     77\u001b[0m         \u001b[0;31m# add a layout box to this, for both the full axis, and the poss\u001b[0m\u001b[0;34m\u001b[0m\u001b[0;34m\u001b[0m\u001b[0;34m\u001b[0m\u001b[0m\n\u001b[1;32m     78\u001b[0m         \u001b[0;31m# of the axis.  We need both because the axes may become smaller\u001b[0m\u001b[0;34m\u001b[0m\u001b[0;34m\u001b[0m\u001b[0;34m\u001b[0m\u001b[0m\n",
            "\u001b[0;32m/usr/local/lib/python3.8/dist-packages/matplotlib/axes/_base.py\u001b[0m in \u001b[0;36m__init__\u001b[0;34m(self, fig, rect, facecolor, frameon, sharex, sharey, label, xscale, yscale, **kwargs)\u001b[0m\n\u001b[1;32m    452\u001b[0m \u001b[0;34m\u001b[0m\u001b[0m\n\u001b[1;32m    453\u001b[0m         \u001b[0mself\u001b[0m\u001b[0;34m.\u001b[0m\u001b[0m_rasterization_zorder\u001b[0m \u001b[0;34m=\u001b[0m \u001b[0;32mNone\u001b[0m\u001b[0;34m\u001b[0m\u001b[0;34m\u001b[0m\u001b[0m\n\u001b[0;32m--> 454\u001b[0;31m         \u001b[0mself\u001b[0m\u001b[0;34m.\u001b[0m\u001b[0mcla\u001b[0m\u001b[0;34m(\u001b[0m\u001b[0;34m)\u001b[0m\u001b[0;34m\u001b[0m\u001b[0;34m\u001b[0m\u001b[0m\n\u001b[0m\u001b[1;32m    455\u001b[0m \u001b[0;34m\u001b[0m\u001b[0m\n\u001b[1;32m    456\u001b[0m         \u001b[0;31m# funcs used to format x and y - fall back on major formatters\u001b[0m\u001b[0;34m\u001b[0m\u001b[0;34m\u001b[0m\u001b[0;34m\u001b[0m\u001b[0m\n",
            "\u001b[0;32m/usr/local/lib/python3.8/dist-packages/matplotlib/axes/_base.py\u001b[0m in \u001b[0;36mcla\u001b[0;34m(self)\u001b[0m\n\u001b[1;32m    987\u001b[0m             \u001b[0mself\u001b[0m\u001b[0;34m.\u001b[0m\u001b[0myaxis\u001b[0m\u001b[0;34m.\u001b[0m\u001b[0mmajor\u001b[0m \u001b[0;34m=\u001b[0m \u001b[0mself\u001b[0m\u001b[0;34m.\u001b[0m\u001b[0m_sharey\u001b[0m\u001b[0;34m.\u001b[0m\u001b[0myaxis\u001b[0m\u001b[0;34m.\u001b[0m\u001b[0mmajor\u001b[0m\u001b[0;34m\u001b[0m\u001b[0;34m\u001b[0m\u001b[0m\n\u001b[1;32m    988\u001b[0m             \u001b[0mself\u001b[0m\u001b[0;34m.\u001b[0m\u001b[0myaxis\u001b[0m\u001b[0;34m.\u001b[0m\u001b[0mminor\u001b[0m \u001b[0;34m=\u001b[0m \u001b[0mself\u001b[0m\u001b[0;34m.\u001b[0m\u001b[0m_sharey\u001b[0m\u001b[0;34m.\u001b[0m\u001b[0myaxis\u001b[0m\u001b[0;34m.\u001b[0m\u001b[0mminor\u001b[0m\u001b[0;34m\u001b[0m\u001b[0;34m\u001b[0m\u001b[0m\n\u001b[0;32m--> 989\u001b[0;31m             \u001b[0my0\u001b[0m\u001b[0;34m,\u001b[0m \u001b[0my1\u001b[0m \u001b[0;34m=\u001b[0m \u001b[0mself\u001b[0m\u001b[0;34m.\u001b[0m\u001b[0m_sharey\u001b[0m\u001b[0;34m.\u001b[0m\u001b[0mget_ylim\u001b[0m\u001b[0;34m(\u001b[0m\u001b[0;34m)\u001b[0m\u001b[0;34m\u001b[0m\u001b[0;34m\u001b[0m\u001b[0m\n\u001b[0m\u001b[1;32m    990\u001b[0m             self.set_ylim(y0, y1, emit=False,\n\u001b[1;32m    991\u001b[0m                           auto=self._sharey.get_autoscaley_on())\n",
            "\u001b[0;32m/usr/local/lib/python3.8/dist-packages/matplotlib/axes/_base.py\u001b[0m in \u001b[0;36mget_ylim\u001b[0;34m(self)\u001b[0m\n\u001b[1;32m   3494\u001b[0m \u001b[0;34m\u001b[0m\u001b[0m\n\u001b[1;32m   3495\u001b[0m         \"\"\"\n\u001b[0;32m-> 3496\u001b[0;31m         \u001b[0;32mreturn\u001b[0m \u001b[0mtuple\u001b[0m\u001b[0;34m(\u001b[0m\u001b[0mself\u001b[0m\u001b[0;34m.\u001b[0m\u001b[0mviewLim\u001b[0m\u001b[0;34m.\u001b[0m\u001b[0mintervaly\u001b[0m\u001b[0;34m)\u001b[0m\u001b[0;34m\u001b[0m\u001b[0;34m\u001b[0m\u001b[0m\n\u001b[0m\u001b[1;32m   3497\u001b[0m \u001b[0;34m\u001b[0m\u001b[0m\n\u001b[1;32m   3498\u001b[0m     def set_ylim(self, bottom=None, top=None, emit=True, auto=False,\n",
            "\u001b[0;32m/usr/local/lib/python3.8/dist-packages/matplotlib/axes/_base.py\u001b[0m in \u001b[0;36mviewLim\u001b[0;34m(self)\u001b[0m\n\u001b[1;32m    597\u001b[0m     \u001b[0;34m@\u001b[0m\u001b[0mproperty\u001b[0m\u001b[0;34m\u001b[0m\u001b[0;34m\u001b[0m\u001b[0m\n\u001b[1;32m    598\u001b[0m     \u001b[0;32mdef\u001b[0m \u001b[0mviewLim\u001b[0m\u001b[0;34m(\u001b[0m\u001b[0mself\u001b[0m\u001b[0;34m)\u001b[0m\u001b[0;34m:\u001b[0m\u001b[0;34m\u001b[0m\u001b[0;34m\u001b[0m\u001b[0m\n\u001b[0;32m--> 599\u001b[0;31m         \u001b[0mself\u001b[0m\u001b[0;34m.\u001b[0m\u001b[0m_unstale_viewLim\u001b[0m\u001b[0;34m(\u001b[0m\u001b[0;34m)\u001b[0m\u001b[0;34m\u001b[0m\u001b[0;34m\u001b[0m\u001b[0m\n\u001b[0m\u001b[1;32m    600\u001b[0m         \u001b[0;32mreturn\u001b[0m \u001b[0mself\u001b[0m\u001b[0;34m.\u001b[0m\u001b[0m_viewLim\u001b[0m\u001b[0;34m\u001b[0m\u001b[0;34m\u001b[0m\u001b[0m\n\u001b[1;32m    601\u001b[0m \u001b[0;34m\u001b[0m\u001b[0m\n",
            "\u001b[0;32m/usr/local/lib/python3.8/dist-packages/matplotlib/axes/_base.py\u001b[0m in \u001b[0;36m_unstale_viewLim\u001b[0;34m(self)\u001b[0m\n\u001b[1;32m    587\u001b[0m                      for ax in self._shared_x_axes.get_siblings(self))\n\u001b[1;32m    588\u001b[0m         scaley = any(ax._stale_viewlim_y\n\u001b[0;32m--> 589\u001b[0;31m                      for ax in self._shared_y_axes.get_siblings(self))\n\u001b[0m\u001b[1;32m    590\u001b[0m         \u001b[0;32mif\u001b[0m \u001b[0mscalex\u001b[0m \u001b[0;32mor\u001b[0m \u001b[0mscaley\u001b[0m\u001b[0;34m:\u001b[0m\u001b[0;34m\u001b[0m\u001b[0;34m\u001b[0m\u001b[0m\n\u001b[1;32m    591\u001b[0m             \u001b[0;32mfor\u001b[0m \u001b[0max\u001b[0m \u001b[0;32min\u001b[0m \u001b[0mself\u001b[0m\u001b[0;34m.\u001b[0m\u001b[0m_shared_x_axes\u001b[0m\u001b[0;34m.\u001b[0m\u001b[0mget_siblings\u001b[0m\u001b[0;34m(\u001b[0m\u001b[0mself\u001b[0m\u001b[0;34m)\u001b[0m\u001b[0;34m:\u001b[0m\u001b[0;34m\u001b[0m\u001b[0;34m\u001b[0m\u001b[0m\n",
            "\u001b[0;32m/usr/local/lib/python3.8/dist-packages/matplotlib/cbook/__init__.py\u001b[0m in \u001b[0;36mget_siblings\u001b[0;34m(self, a)\u001b[0m\n\u001b[1;32m    882\u001b[0m     \u001b[0;32mdef\u001b[0m \u001b[0mget_siblings\u001b[0m\u001b[0;34m(\u001b[0m\u001b[0mself\u001b[0m\u001b[0;34m,\u001b[0m \u001b[0ma\u001b[0m\u001b[0;34m)\u001b[0m\u001b[0;34m:\u001b[0m\u001b[0;34m\u001b[0m\u001b[0;34m\u001b[0m\u001b[0m\n\u001b[1;32m    883\u001b[0m         \u001b[0;34m\"\"\"Return all of the items joined with *a*, including itself.\"\"\"\u001b[0m\u001b[0;34m\u001b[0m\u001b[0;34m\u001b[0m\u001b[0m\n\u001b[0;32m--> 884\u001b[0;31m         \u001b[0mself\u001b[0m\u001b[0;34m.\u001b[0m\u001b[0mclean\u001b[0m\u001b[0;34m(\u001b[0m\u001b[0;34m)\u001b[0m\u001b[0;34m\u001b[0m\u001b[0;34m\u001b[0m\u001b[0m\n\u001b[0m\u001b[1;32m    885\u001b[0m         \u001b[0msiblings\u001b[0m \u001b[0;34m=\u001b[0m \u001b[0mself\u001b[0m\u001b[0;34m.\u001b[0m\u001b[0m_mapping\u001b[0m\u001b[0;34m.\u001b[0m\u001b[0mget\u001b[0m\u001b[0;34m(\u001b[0m\u001b[0mweakref\u001b[0m\u001b[0;34m.\u001b[0m\u001b[0mref\u001b[0m\u001b[0;34m(\u001b[0m\u001b[0ma\u001b[0m\u001b[0;34m)\u001b[0m\u001b[0;34m,\u001b[0m \u001b[0;34m[\u001b[0m\u001b[0mweakref\u001b[0m\u001b[0;34m.\u001b[0m\u001b[0mref\u001b[0m\u001b[0;34m(\u001b[0m\u001b[0ma\u001b[0m\u001b[0;34m)\u001b[0m\u001b[0;34m]\u001b[0m\u001b[0;34m)\u001b[0m\u001b[0;34m\u001b[0m\u001b[0;34m\u001b[0m\u001b[0m\n\u001b[1;32m    886\u001b[0m         \u001b[0;32mreturn\u001b[0m \u001b[0;34m[\u001b[0m\u001b[0mx\u001b[0m\u001b[0;34m(\u001b[0m\u001b[0;34m)\u001b[0m \u001b[0;32mfor\u001b[0m \u001b[0mx\u001b[0m \u001b[0;32min\u001b[0m \u001b[0msiblings\u001b[0m\u001b[0;34m]\u001b[0m\u001b[0;34m\u001b[0m\u001b[0;34m\u001b[0m\u001b[0m\n",
            "\u001b[0;32m/usr/local/lib/python3.8/dist-packages/matplotlib/cbook/__init__.py\u001b[0m in \u001b[0;36mclean\u001b[0;34m(self)\u001b[0m\n\u001b[1;32m    834\u001b[0m         \u001b[0;34m\"\"\"Clean dead weak references from the dictionary.\"\"\"\u001b[0m\u001b[0;34m\u001b[0m\u001b[0;34m\u001b[0m\u001b[0m\n\u001b[1;32m    835\u001b[0m         \u001b[0mmapping\u001b[0m \u001b[0;34m=\u001b[0m \u001b[0mself\u001b[0m\u001b[0;34m.\u001b[0m\u001b[0m_mapping\u001b[0m\u001b[0;34m\u001b[0m\u001b[0;34m\u001b[0m\u001b[0m\n\u001b[0;32m--> 836\u001b[0;31m         \u001b[0mto_drop\u001b[0m \u001b[0;34m=\u001b[0m \u001b[0;34m[\u001b[0m\u001b[0mkey\u001b[0m \u001b[0;32mfor\u001b[0m \u001b[0mkey\u001b[0m \u001b[0;32min\u001b[0m \u001b[0mmapping\u001b[0m \u001b[0;32mif\u001b[0m \u001b[0mkey\u001b[0m\u001b[0;34m(\u001b[0m\u001b[0;34m)\u001b[0m \u001b[0;32mis\u001b[0m \u001b[0;32mNone\u001b[0m\u001b[0;34m]\u001b[0m\u001b[0;34m\u001b[0m\u001b[0;34m\u001b[0m\u001b[0m\n\u001b[0m\u001b[1;32m    837\u001b[0m         \u001b[0;32mfor\u001b[0m \u001b[0mkey\u001b[0m \u001b[0;32min\u001b[0m \u001b[0mto_drop\u001b[0m\u001b[0;34m:\u001b[0m\u001b[0;34m\u001b[0m\u001b[0;34m\u001b[0m\u001b[0m\n\u001b[1;32m    838\u001b[0m             \u001b[0mval\u001b[0m \u001b[0;34m=\u001b[0m \u001b[0mmapping\u001b[0m\u001b[0;34m.\u001b[0m\u001b[0mpop\u001b[0m\u001b[0;34m(\u001b[0m\u001b[0mkey\u001b[0m\u001b[0;34m)\u001b[0m\u001b[0;34m\u001b[0m\u001b[0;34m\u001b[0m\u001b[0m\n",
            "\u001b[0;32m/usr/local/lib/python3.8/dist-packages/matplotlib/cbook/__init__.py\u001b[0m in \u001b[0;36m<listcomp>\u001b[0;34m(.0)\u001b[0m\n\u001b[1;32m    834\u001b[0m         \u001b[0;34m\"\"\"Clean dead weak references from the dictionary.\"\"\"\u001b[0m\u001b[0;34m\u001b[0m\u001b[0;34m\u001b[0m\u001b[0m\n\u001b[1;32m    835\u001b[0m         \u001b[0mmapping\u001b[0m \u001b[0;34m=\u001b[0m \u001b[0mself\u001b[0m\u001b[0;34m.\u001b[0m\u001b[0m_mapping\u001b[0m\u001b[0;34m\u001b[0m\u001b[0;34m\u001b[0m\u001b[0m\n\u001b[0;32m--> 836\u001b[0;31m         \u001b[0mto_drop\u001b[0m \u001b[0;34m=\u001b[0m \u001b[0;34m[\u001b[0m\u001b[0mkey\u001b[0m \u001b[0;32mfor\u001b[0m \u001b[0mkey\u001b[0m \u001b[0;32min\u001b[0m \u001b[0mmapping\u001b[0m \u001b[0;32mif\u001b[0m \u001b[0mkey\u001b[0m\u001b[0;34m(\u001b[0m\u001b[0;34m)\u001b[0m \u001b[0;32mis\u001b[0m \u001b[0;32mNone\u001b[0m\u001b[0;34m]\u001b[0m\u001b[0;34m\u001b[0m\u001b[0;34m\u001b[0m\u001b[0m\n\u001b[0m\u001b[1;32m    837\u001b[0m         \u001b[0;32mfor\u001b[0m \u001b[0mkey\u001b[0m \u001b[0;32min\u001b[0m \u001b[0mto_drop\u001b[0m\u001b[0;34m:\u001b[0m\u001b[0;34m\u001b[0m\u001b[0;34m\u001b[0m\u001b[0m\n\u001b[1;32m    838\u001b[0m             \u001b[0mval\u001b[0m \u001b[0;34m=\u001b[0m \u001b[0mmapping\u001b[0m\u001b[0;34m.\u001b[0m\u001b[0mpop\u001b[0m\u001b[0;34m(\u001b[0m\u001b[0mkey\u001b[0m\u001b[0;34m)\u001b[0m\u001b[0;34m\u001b[0m\u001b[0;34m\u001b[0m\u001b[0m\n",
            "\u001b[0;31mKeyboardInterrupt\u001b[0m: "
          ]
        }
      ]
    }
  ],
  "metadata": {
    "colab": {
      "provenance": [],
      "authorship_tag": "ABX9TyPQoE3vXN1Z2xQELepXE7Aa",
      "include_colab_link": true
    },
    "kernelspec": {
      "display_name": "Python 3",
      "name": "python3"
    },
    "language_info": {
      "name": "python"
    }
  },
  "nbformat": 4,
  "nbformat_minor": 0
}